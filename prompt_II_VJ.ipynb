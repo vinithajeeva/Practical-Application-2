{
  "cells": [
    {
      "cell_type": "markdown",
      "metadata": {
        "id": "ItmHqmRF7Pux"
      },
      "source": [
        "**OVERVIEW**\n",
        "\n",
        "In this application, you will explore a dataset from kaggle that contains information on 3 million used cars.  Your goal is to understand what factors make a car more or less expensive.  As a result of your analysis, you should provide clear recommendations to your client -- a used car dealership -- as to what consumers value in a used car."
      ]
    },
    {
      "cell_type": "markdown",
      "metadata": {
        "id": "Z44pIKP07Pum"
      },
      "source": [
        "# What drives the price of a car?\n",
        "\n",
        "![](/content/images/kurt.jpeg)"
      ]
    },
    {
      "cell_type": "markdown",
      "metadata": {
        "id": "8OlA-qGe7Puz"
      },
      "source": [
        "### Business Understanding\n",
        "\n",
        "From a business perspective, we are tasked with identifying key drivers for used car prices.  In the CRISP-DM overview, we are asked to convert this business framing to a data problem definition.  Using a few sentences, reframe the task as a data task with the appropriate technical vocabulary. "
      ]
    },
    {
      "cell_type": "markdown",
      "metadata": {
        "id": "cdhsF0Ey7Puy"
      },
      "source": [
        "### CRISP-DM Framework\n",
        "\n",
        "<center>\n",
        "    <img src = /content/images/crisp.png width = 50%/>\n",
        "</center>\n",
        "\n",
        "\n",
        "To frame the task, throughout our practical applications we will refer back to a standard process in industry for data projects called CRISP-DM.  This process provides a framework for working through a data problem.  Your first step in this application will be to read through a brief overview of CRISP-DM [here](https://mo-pcco.s3.us-east-1.amazonaws.com/BH-PCMLAI/module_11/readings_starter.zip).  After reading the overview, answer the questions below."
      ]
    },
    {
      "cell_type": "markdown",
      "metadata": {
        "id": "oyM_udWi7Pu0"
      },
      "source": [
        "The dataset is from kaggle that contains information on approx. 4 million used cars.\n",
        "\n",
        "1. Identify the factors that affect the price\n",
        "2. Identify the factors valued by customers with a used car\n",
        "3. Provide the recommendations to a used car dealership"
      ]
    },
    {
      "cell_type": "markdown",
      "metadata": {
        "id": "fAqzdVQ47Pu1"
      },
      "source": [
        "### Data Understanding\n",
        "\n",
        "After considering the business understanding, we want to get familiar with our data.  Write down some steps that you would take to get to know the dataset and identify any quality issues within.  Take time to get to know the dataset and explore what information it contains and how this could be used to inform your business understanding."
      ]
    },
    {
      "cell_type": "code",
      "execution_count": 233,
      "metadata": {
        "id": "EnEepWNg7Pu2"
      },
      "outputs": [],
      "source": [
        "#Importing all Libraries and packages needed for this application\n",
        "\n",
        "#Basic python packages\n",
        "import pandas as pd\n",
        "import numpy as np\n",
        "#For Plotting\n",
        "import matplotlib.pyplot as plt\n",
        "from mpl_toolkits import mplot3d\n",
        "import seaborn as sns\n",
        "import plotly.express as px\n",
        "\n",
        "#PCA and K-Means - Grouping and Clustering\n",
        "from sklearn.decomposition import PCA\n",
        "from sklearn.cluster import KMeans, DBSCAN\n",
        "from sklearn.preprocessing import StandardScaler\n",
        "from scipy.linalg import svd\n",
        "\n",
        "#Pipeling and Modeling\n",
        "from sklearn import set_config\n",
        "from sklearn import svm\n",
        "set_config(display=\"diagram\")\n",
        "from sklearn.pipeline import Pipeline\n",
        "from sklearn.compose import make_column_transformer\n",
        "from sklearn.preprocessing import OneHotEncoder, PolynomialFeatures, StandardScaler\n",
        "from sklearn.feature_selection import SequentialFeatureSelector, SelectFromModel\n",
        "from sklearn.linear_model import LinearRegression, Lasso, Ridge\n",
        "from sklearn.model_selection import train_test_split, GridSearchCV, LeaveOneOut, KFold, cross_val_score\n",
        "from sklearn.metrics import mean_squared_error, mean_absolute_error\n",
        "from statsmodels.tools.eval_measures import rmse\n",
        "from sklearn.inspection import permutation_importance\n",
        "\n",
        "import statsmodels.api as sm\n",
        "from statsmodels.tsa.seasonal import seasonal_decompose\n",
        "from statistics import pvariance\n",
        "from statsmodels.tsa.arima_model import ARIMA\n",
        "from statsmodels.tsa.stattools import adfuller\n",
        "from statsmodels.tsa.statespace.sarimax import SARIMAX\n",
        "from statsmodels.tsa.stattools import acf, pacf\n",
        "from statsmodels.graphics.tsaplots import plot_acf, plot_pacf\n",
        "\n",
        "from warnings import filterwarnings\n",
        "filterwarnings('ignore')"
      ]
    },
    {
      "cell_type": "code",
      "execution_count": 234,
      "metadata": {
        "id": "JRRK5vqt7Pu5"
      },
      "outputs": [],
      "source": [
        "#Read and save the used car vehicles CSV to a dataframe\n",
        "vehicles = pd.read_csv('/content/drive/MyDrive/Colab Notebooks/data/vehicles.csv')"
      ]
    },
    {
      "cell_type": "code",
      "source": [
        "from google.colab import drive\n",
        "drive.mount('/content/drive')"
      ],
      "metadata": {
        "colab": {
          "base_uri": "https://localhost:8080/"
        },
        "id": "mqV_PYVT-tds",
        "outputId": "ed18def7-8e60-473b-823b-43ea2813c7a8"
      },
      "execution_count": 140,
      "outputs": [
        {
          "output_type": "stream",
          "name": "stdout",
          "text": [
            "Drive already mounted at /content/drive; to attempt to forcibly remount, call drive.mount(\"/content/drive\", force_remount=True).\n"
          ]
        }
      ]
    },
    {
      "cell_type": "code",
      "execution_count": 235,
      "metadata": {
        "colab": {
          "base_uri": "https://localhost:8080/",
          "height": 206
        },
        "id": "OOVsfBrq7Pu7",
        "outputId": "ceb71645-fc7a-4cc1-f950-22411b4b2dd8"
      },
      "outputs": [
        {
          "output_type": "execute_result",
          "data": {
            "text/plain": [
              "           id                  region  price  year manufacturer model  \\\n",
              "0  7222695916                prescott   6000   NaN          NaN   NaN   \n",
              "1  7218891961            fayetteville  11900   NaN          NaN   NaN   \n",
              "2  7221797935            florida keys  21000   NaN          NaN   NaN   \n",
              "3  7222270760  worcester / central MA   1500   NaN          NaN   NaN   \n",
              "4  7210384030              greensboro   4900   NaN          NaN   NaN   \n",
              "\n",
              "  condition cylinders fuel  odometer title_status transmission  VIN drive  \\\n",
              "0       NaN       NaN  NaN       NaN          NaN          NaN  NaN   NaN   \n",
              "1       NaN       NaN  NaN       NaN          NaN          NaN  NaN   NaN   \n",
              "2       NaN       NaN  NaN       NaN          NaN          NaN  NaN   NaN   \n",
              "3       NaN       NaN  NaN       NaN          NaN          NaN  NaN   NaN   \n",
              "4       NaN       NaN  NaN       NaN          NaN          NaN  NaN   NaN   \n",
              "\n",
              "  size type paint_color state  \n",
              "0  NaN  NaN         NaN    az  \n",
              "1  NaN  NaN         NaN    ar  \n",
              "2  NaN  NaN         NaN    fl  \n",
              "3  NaN  NaN         NaN    ma  \n",
              "4  NaN  NaN         NaN    nc  "
            ],
            "text/html": [
              "\n",
              "  <div id=\"df-994e75d9-f492-4b4e-87e8-00047db737f9\">\n",
              "    <div class=\"colab-df-container\">\n",
              "      <div>\n",
              "<style scoped>\n",
              "    .dataframe tbody tr th:only-of-type {\n",
              "        vertical-align: middle;\n",
              "    }\n",
              "\n",
              "    .dataframe tbody tr th {\n",
              "        vertical-align: top;\n",
              "    }\n",
              "\n",
              "    .dataframe thead th {\n",
              "        text-align: right;\n",
              "    }\n",
              "</style>\n",
              "<table border=\"1\" class=\"dataframe\">\n",
              "  <thead>\n",
              "    <tr style=\"text-align: right;\">\n",
              "      <th></th>\n",
              "      <th>id</th>\n",
              "      <th>region</th>\n",
              "      <th>price</th>\n",
              "      <th>year</th>\n",
              "      <th>manufacturer</th>\n",
              "      <th>model</th>\n",
              "      <th>condition</th>\n",
              "      <th>cylinders</th>\n",
              "      <th>fuel</th>\n",
              "      <th>odometer</th>\n",
              "      <th>title_status</th>\n",
              "      <th>transmission</th>\n",
              "      <th>VIN</th>\n",
              "      <th>drive</th>\n",
              "      <th>size</th>\n",
              "      <th>type</th>\n",
              "      <th>paint_color</th>\n",
              "      <th>state</th>\n",
              "    </tr>\n",
              "  </thead>\n",
              "  <tbody>\n",
              "    <tr>\n",
              "      <th>0</th>\n",
              "      <td>7222695916</td>\n",
              "      <td>prescott</td>\n",
              "      <td>6000</td>\n",
              "      <td>NaN</td>\n",
              "      <td>NaN</td>\n",
              "      <td>NaN</td>\n",
              "      <td>NaN</td>\n",
              "      <td>NaN</td>\n",
              "      <td>NaN</td>\n",
              "      <td>NaN</td>\n",
              "      <td>NaN</td>\n",
              "      <td>NaN</td>\n",
              "      <td>NaN</td>\n",
              "      <td>NaN</td>\n",
              "      <td>NaN</td>\n",
              "      <td>NaN</td>\n",
              "      <td>NaN</td>\n",
              "      <td>az</td>\n",
              "    </tr>\n",
              "    <tr>\n",
              "      <th>1</th>\n",
              "      <td>7218891961</td>\n",
              "      <td>fayetteville</td>\n",
              "      <td>11900</td>\n",
              "      <td>NaN</td>\n",
              "      <td>NaN</td>\n",
              "      <td>NaN</td>\n",
              "      <td>NaN</td>\n",
              "      <td>NaN</td>\n",
              "      <td>NaN</td>\n",
              "      <td>NaN</td>\n",
              "      <td>NaN</td>\n",
              "      <td>NaN</td>\n",
              "      <td>NaN</td>\n",
              "      <td>NaN</td>\n",
              "      <td>NaN</td>\n",
              "      <td>NaN</td>\n",
              "      <td>NaN</td>\n",
              "      <td>ar</td>\n",
              "    </tr>\n",
              "    <tr>\n",
              "      <th>2</th>\n",
              "      <td>7221797935</td>\n",
              "      <td>florida keys</td>\n",
              "      <td>21000</td>\n",
              "      <td>NaN</td>\n",
              "      <td>NaN</td>\n",
              "      <td>NaN</td>\n",
              "      <td>NaN</td>\n",
              "      <td>NaN</td>\n",
              "      <td>NaN</td>\n",
              "      <td>NaN</td>\n",
              "      <td>NaN</td>\n",
              "      <td>NaN</td>\n",
              "      <td>NaN</td>\n",
              "      <td>NaN</td>\n",
              "      <td>NaN</td>\n",
              "      <td>NaN</td>\n",
              "      <td>NaN</td>\n",
              "      <td>fl</td>\n",
              "    </tr>\n",
              "    <tr>\n",
              "      <th>3</th>\n",
              "      <td>7222270760</td>\n",
              "      <td>worcester / central MA</td>\n",
              "      <td>1500</td>\n",
              "      <td>NaN</td>\n",
              "      <td>NaN</td>\n",
              "      <td>NaN</td>\n",
              "      <td>NaN</td>\n",
              "      <td>NaN</td>\n",
              "      <td>NaN</td>\n",
              "      <td>NaN</td>\n",
              "      <td>NaN</td>\n",
              "      <td>NaN</td>\n",
              "      <td>NaN</td>\n",
              "      <td>NaN</td>\n",
              "      <td>NaN</td>\n",
              "      <td>NaN</td>\n",
              "      <td>NaN</td>\n",
              "      <td>ma</td>\n",
              "    </tr>\n",
              "    <tr>\n",
              "      <th>4</th>\n",
              "      <td>7210384030</td>\n",
              "      <td>greensboro</td>\n",
              "      <td>4900</td>\n",
              "      <td>NaN</td>\n",
              "      <td>NaN</td>\n",
              "      <td>NaN</td>\n",
              "      <td>NaN</td>\n",
              "      <td>NaN</td>\n",
              "      <td>NaN</td>\n",
              "      <td>NaN</td>\n",
              "      <td>NaN</td>\n",
              "      <td>NaN</td>\n",
              "      <td>NaN</td>\n",
              "      <td>NaN</td>\n",
              "      <td>NaN</td>\n",
              "      <td>NaN</td>\n",
              "      <td>NaN</td>\n",
              "      <td>nc</td>\n",
              "    </tr>\n",
              "  </tbody>\n",
              "</table>\n",
              "</div>\n",
              "      <button class=\"colab-df-convert\" onclick=\"convertToInteractive('df-994e75d9-f492-4b4e-87e8-00047db737f9')\"\n",
              "              title=\"Convert this dataframe to an interactive table.\"\n",
              "              style=\"display:none;\">\n",
              "        \n",
              "  <svg xmlns=\"http://www.w3.org/2000/svg\" height=\"24px\"viewBox=\"0 0 24 24\"\n",
              "       width=\"24px\">\n",
              "    <path d=\"M0 0h24v24H0V0z\" fill=\"none\"/>\n",
              "    <path d=\"M18.56 5.44l.94 2.06.94-2.06 2.06-.94-2.06-.94-.94-2.06-.94 2.06-2.06.94zm-11 1L8.5 8.5l.94-2.06 2.06-.94-2.06-.94L8.5 2.5l-.94 2.06-2.06.94zm10 10l.94 2.06.94-2.06 2.06-.94-2.06-.94-.94-2.06-.94 2.06-2.06.94z\"/><path d=\"M17.41 7.96l-1.37-1.37c-.4-.4-.92-.59-1.43-.59-.52 0-1.04.2-1.43.59L10.3 9.45l-7.72 7.72c-.78.78-.78 2.05 0 2.83L4 21.41c.39.39.9.59 1.41.59.51 0 1.02-.2 1.41-.59l7.78-7.78 2.81-2.81c.8-.78.8-2.07 0-2.86zM5.41 20L4 18.59l7.72-7.72 1.47 1.35L5.41 20z\"/>\n",
              "  </svg>\n",
              "      </button>\n",
              "      \n",
              "  <style>\n",
              "    .colab-df-container {\n",
              "      display:flex;\n",
              "      flex-wrap:wrap;\n",
              "      gap: 12px;\n",
              "    }\n",
              "\n",
              "    .colab-df-convert {\n",
              "      background-color: #E8F0FE;\n",
              "      border: none;\n",
              "      border-radius: 50%;\n",
              "      cursor: pointer;\n",
              "      display: none;\n",
              "      fill: #1967D2;\n",
              "      height: 32px;\n",
              "      padding: 0 0 0 0;\n",
              "      width: 32px;\n",
              "    }\n",
              "\n",
              "    .colab-df-convert:hover {\n",
              "      background-color: #E2EBFA;\n",
              "      box-shadow: 0px 1px 2px rgba(60, 64, 67, 0.3), 0px 1px 3px 1px rgba(60, 64, 67, 0.15);\n",
              "      fill: #174EA6;\n",
              "    }\n",
              "\n",
              "    [theme=dark] .colab-df-convert {\n",
              "      background-color: #3B4455;\n",
              "      fill: #D2E3FC;\n",
              "    }\n",
              "\n",
              "    [theme=dark] .colab-df-convert:hover {\n",
              "      background-color: #434B5C;\n",
              "      box-shadow: 0px 1px 3px 1px rgba(0, 0, 0, 0.15);\n",
              "      filter: drop-shadow(0px 1px 2px rgba(0, 0, 0, 0.3));\n",
              "      fill: #FFFFFF;\n",
              "    }\n",
              "  </style>\n",
              "\n",
              "      <script>\n",
              "        const buttonEl =\n",
              "          document.querySelector('#df-994e75d9-f492-4b4e-87e8-00047db737f9 button.colab-df-convert');\n",
              "        buttonEl.style.display =\n",
              "          google.colab.kernel.accessAllowed ? 'block' : 'none';\n",
              "\n",
              "        async function convertToInteractive(key) {\n",
              "          const element = document.querySelector('#df-994e75d9-f492-4b4e-87e8-00047db737f9');\n",
              "          const dataTable =\n",
              "            await google.colab.kernel.invokeFunction('convertToInteractive',\n",
              "                                                     [key], {});\n",
              "          if (!dataTable) return;\n",
              "\n",
              "          const docLinkHtml = 'Like what you see? Visit the ' +\n",
              "            '<a target=\"_blank\" href=https://colab.research.google.com/notebooks/data_table.ipynb>data table notebook</a>'\n",
              "            + ' to learn more about interactive tables.';\n",
              "          element.innerHTML = '';\n",
              "          dataTable['output_type'] = 'display_data';\n",
              "          await google.colab.output.renderOutput(dataTable, element);\n",
              "          const docLink = document.createElement('div');\n",
              "          docLink.innerHTML = docLinkHtml;\n",
              "          element.appendChild(docLink);\n",
              "        }\n",
              "      </script>\n",
              "    </div>\n",
              "  </div>\n",
              "  "
            ]
          },
          "metadata": {},
          "execution_count": 235
        }
      ],
      "source": [
        "vehicles.head()"
      ]
    },
    {
      "cell_type": "code",
      "execution_count": 236,
      "metadata": {
        "scrolled": false,
        "id": "Z62zd3vN7Pu9",
        "outputId": "2cfce790-d422-4661-e592-8c4fe95ef572",
        "colab": {
          "base_uri": "https://localhost:8080/"
        }
      },
      "outputs": [
        {
          "output_type": "stream",
          "name": "stdout",
          "text": [
            "<class 'pandas.core.frame.DataFrame'>\n",
            "RangeIndex: 426880 entries, 0 to 426879\n",
            "Data columns (total 18 columns):\n",
            " #   Column        Non-Null Count   Dtype  \n",
            "---  ------        --------------   -----  \n",
            " 0   id            426880 non-null  int64  \n",
            " 1   region        426880 non-null  object \n",
            " 2   price         426880 non-null  int64  \n",
            " 3   year          425675 non-null  float64\n",
            " 4   manufacturer  409234 non-null  object \n",
            " 5   model         421603 non-null  object \n",
            " 6   condition     252776 non-null  object \n",
            " 7   cylinders     249202 non-null  object \n",
            " 8   fuel          423867 non-null  object \n",
            " 9   odometer      422480 non-null  float64\n",
            " 10  title_status  418638 non-null  object \n",
            " 11  transmission  424324 non-null  object \n",
            " 12  VIN           265838 non-null  object \n",
            " 13  drive         296313 non-null  object \n",
            " 14  size          120519 non-null  object \n",
            " 15  type          334022 non-null  object \n",
            " 16  paint_color   296677 non-null  object \n",
            " 17  state         426880 non-null  object \n",
            "dtypes: float64(2), int64(2), object(14)\n",
            "memory usage: 58.6+ MB\n"
          ]
        }
      ],
      "source": [
        "vehicles.info()"
      ]
    },
    {
      "cell_type": "code",
      "execution_count": 237,
      "metadata": {
        "id": "NtGB5MvU7Pu-"
      },
      "outputs": [],
      "source": [
        "#Since 'id' and 'VIN' are not going to help with determining the price of used car, it can be dropped\n",
        "vehicles = vehicles.drop(['id','VIN'], axis=1)"
      ]
    },
    {
      "cell_type": "code",
      "execution_count": 238,
      "metadata": {
        "id": "43p7azzH7Pu_",
        "outputId": "78462d5b-cb12-49b3-af59-dab955deea72",
        "colab": {
          "base_uri": "https://localhost:8080/"
        }
      },
      "outputs": [
        {
          "output_type": "execute_result",
          "data": {
            "text/plain": [
              "(426880, 16)"
            ]
          },
          "metadata": {},
          "execution_count": 238
        }
      ],
      "source": [
        "vehicles.shape"
      ]
    },
    {
      "cell_type": "markdown",
      "metadata": {
        "id": "iEt4a00_7Pu_"
      },
      "source": [
        "##### Describe Data"
      ]
    },
    {
      "cell_type": "markdown",
      "metadata": {
        "id": "-vOlQHI47PvA"
      },
      "source": [
        "Here is my understanding of the data description/ metadata of the attributes.\n",
        "\n",
        "######  1. Vehicle Attributes\n",
        "        - price: Min(0); Max(3736928711); Mean(75199.03); Median (13950.0); std(12182282.17)\n",
        "        - manufacturer: [nan, 'gmc', 'chevrolet', 'toyota', 'ford', 'jeep', 'nissan', 'ram', 'mazda', 'cadillac', 'honda', 'dodge', 'lexus', 'jaguar', 'buick', 'chrysler', 'volvo', 'audi', 'infiniti', 'lincoln', 'alfa-romeo', 'subaru', 'acura', 'hyundai', 'mercedes-benz', 'bmw', 'mitsubishi', 'volkswagen', 'porsche', 'kia', 'rover', 'ferrari', 'mini', 'pontiac', 'fiat', 'tesla', 'saturn', 'mercury', 'harley-davidson', 'datsun', 'aston-martin', 'land rover', 'morgan']        \n",
        "        - model: [nan, 'sierra 1500 crew cab slt', 'silverado 1500', ..., 'gand wagoneer', '96 Suburban', 'Paige Glenbrook Touring']\n",
        "        - condition: [nan, 'good', 'excellent', 'fair', 'like new', 'new', 'salvage']\n",
        "        - cylinders: [nan, '8 cylinders', '6 cylinders', '4 cylinders', '5 cylinders', 'other', '3 cylinders', '10 cylinders', '12 cylinders']\n",
        "        - fuel: [nan, 'gas', 'other', 'diesel', 'hybrid', 'electric']\n",
        "        - odometer: Min(0); Max(10000000.0); Mean(98043.33); Median(85548.0); std(213881.50)\n",
        "        - title_status: [nan, 'clean', 'rebuilt', 'lien', 'salvage', 'missing', 'parts only']\n",
        "        - transmission: [nan, 'other', 'automatic', 'manual']\n",
        "        - drive: [nan, 'rwd', '4wd', 'fwd']\n",
        "        - size: [nan, 'full-size', 'mid-size', 'compact', 'sub-compact']\n",
        "        - type: [nan, 'pickup', 'truck', 'other', 'coupe', 'SUV', 'hatchback', 'mini-van', 'sedan', 'offroad', 'bus', 'van', 'convertible', 'wagon']\n",
        "        - paint_color: [nan, 'white', 'blue', 'red', 'black', 'silver', 'grey', 'brown', 'yellow', 'orange', 'green', 'custom', 'purple']\n",
        "######    2. Contextual Attributes - time, location\n",
        "        - region: Cities across United States of America\n",
        "        - state: 51 states in United States of America   \n",
        "        - year: [nan, 1900 to 2022]"
      ]
    },
    {
      "cell_type": "code",
      "execution_count": 239,
      "metadata": {
        "scrolled": true,
        "id": "giQ_z1PP7PvB",
        "outputId": "9361d179-707b-42f8-e162-3ff5e64c52b2",
        "colab": {
          "base_uri": "https://localhost:8080/",
          "height": 300
        }
      },
      "outputs": [
        {
          "output_type": "execute_result",
          "data": {
            "text/plain": [
              "              price           year      odometer\n",
              "count  4.268800e+05  425675.000000  4.224800e+05\n",
              "mean   7.519903e+04    2011.235191  9.804333e+04\n",
              "std    1.218228e+07       9.452120  2.138815e+05\n",
              "min    0.000000e+00    1900.000000  0.000000e+00\n",
              "25%    5.900000e+03    2008.000000  3.770400e+04\n",
              "50%    1.395000e+04    2013.000000  8.554800e+04\n",
              "75%    2.648575e+04    2017.000000  1.335425e+05\n",
              "max    3.736929e+09    2022.000000  1.000000e+07"
            ],
            "text/html": [
              "\n",
              "  <div id=\"df-5fb8bdd5-f68e-4c4d-a018-a07d196d6205\">\n",
              "    <div class=\"colab-df-container\">\n",
              "      <div>\n",
              "<style scoped>\n",
              "    .dataframe tbody tr th:only-of-type {\n",
              "        vertical-align: middle;\n",
              "    }\n",
              "\n",
              "    .dataframe tbody tr th {\n",
              "        vertical-align: top;\n",
              "    }\n",
              "\n",
              "    .dataframe thead th {\n",
              "        text-align: right;\n",
              "    }\n",
              "</style>\n",
              "<table border=\"1\" class=\"dataframe\">\n",
              "  <thead>\n",
              "    <tr style=\"text-align: right;\">\n",
              "      <th></th>\n",
              "      <th>price</th>\n",
              "      <th>year</th>\n",
              "      <th>odometer</th>\n",
              "    </tr>\n",
              "  </thead>\n",
              "  <tbody>\n",
              "    <tr>\n",
              "      <th>count</th>\n",
              "      <td>4.268800e+05</td>\n",
              "      <td>425675.000000</td>\n",
              "      <td>4.224800e+05</td>\n",
              "    </tr>\n",
              "    <tr>\n",
              "      <th>mean</th>\n",
              "      <td>7.519903e+04</td>\n",
              "      <td>2011.235191</td>\n",
              "      <td>9.804333e+04</td>\n",
              "    </tr>\n",
              "    <tr>\n",
              "      <th>std</th>\n",
              "      <td>1.218228e+07</td>\n",
              "      <td>9.452120</td>\n",
              "      <td>2.138815e+05</td>\n",
              "    </tr>\n",
              "    <tr>\n",
              "      <th>min</th>\n",
              "      <td>0.000000e+00</td>\n",
              "      <td>1900.000000</td>\n",
              "      <td>0.000000e+00</td>\n",
              "    </tr>\n",
              "    <tr>\n",
              "      <th>25%</th>\n",
              "      <td>5.900000e+03</td>\n",
              "      <td>2008.000000</td>\n",
              "      <td>3.770400e+04</td>\n",
              "    </tr>\n",
              "    <tr>\n",
              "      <th>50%</th>\n",
              "      <td>1.395000e+04</td>\n",
              "      <td>2013.000000</td>\n",
              "      <td>8.554800e+04</td>\n",
              "    </tr>\n",
              "    <tr>\n",
              "      <th>75%</th>\n",
              "      <td>2.648575e+04</td>\n",
              "      <td>2017.000000</td>\n",
              "      <td>1.335425e+05</td>\n",
              "    </tr>\n",
              "    <tr>\n",
              "      <th>max</th>\n",
              "      <td>3.736929e+09</td>\n",
              "      <td>2022.000000</td>\n",
              "      <td>1.000000e+07</td>\n",
              "    </tr>\n",
              "  </tbody>\n",
              "</table>\n",
              "</div>\n",
              "      <button class=\"colab-df-convert\" onclick=\"convertToInteractive('df-5fb8bdd5-f68e-4c4d-a018-a07d196d6205')\"\n",
              "              title=\"Convert this dataframe to an interactive table.\"\n",
              "              style=\"display:none;\">\n",
              "        \n",
              "  <svg xmlns=\"http://www.w3.org/2000/svg\" height=\"24px\"viewBox=\"0 0 24 24\"\n",
              "       width=\"24px\">\n",
              "    <path d=\"M0 0h24v24H0V0z\" fill=\"none\"/>\n",
              "    <path d=\"M18.56 5.44l.94 2.06.94-2.06 2.06-.94-2.06-.94-.94-2.06-.94 2.06-2.06.94zm-11 1L8.5 8.5l.94-2.06 2.06-.94-2.06-.94L8.5 2.5l-.94 2.06-2.06.94zm10 10l.94 2.06.94-2.06 2.06-.94-2.06-.94-.94-2.06-.94 2.06-2.06.94z\"/><path d=\"M17.41 7.96l-1.37-1.37c-.4-.4-.92-.59-1.43-.59-.52 0-1.04.2-1.43.59L10.3 9.45l-7.72 7.72c-.78.78-.78 2.05 0 2.83L4 21.41c.39.39.9.59 1.41.59.51 0 1.02-.2 1.41-.59l7.78-7.78 2.81-2.81c.8-.78.8-2.07 0-2.86zM5.41 20L4 18.59l7.72-7.72 1.47 1.35L5.41 20z\"/>\n",
              "  </svg>\n",
              "      </button>\n",
              "      \n",
              "  <style>\n",
              "    .colab-df-container {\n",
              "      display:flex;\n",
              "      flex-wrap:wrap;\n",
              "      gap: 12px;\n",
              "    }\n",
              "\n",
              "    .colab-df-convert {\n",
              "      background-color: #E8F0FE;\n",
              "      border: none;\n",
              "      border-radius: 50%;\n",
              "      cursor: pointer;\n",
              "      display: none;\n",
              "      fill: #1967D2;\n",
              "      height: 32px;\n",
              "      padding: 0 0 0 0;\n",
              "      width: 32px;\n",
              "    }\n",
              "\n",
              "    .colab-df-convert:hover {\n",
              "      background-color: #E2EBFA;\n",
              "      box-shadow: 0px 1px 2px rgba(60, 64, 67, 0.3), 0px 1px 3px 1px rgba(60, 64, 67, 0.15);\n",
              "      fill: #174EA6;\n",
              "    }\n",
              "\n",
              "    [theme=dark] .colab-df-convert {\n",
              "      background-color: #3B4455;\n",
              "      fill: #D2E3FC;\n",
              "    }\n",
              "\n",
              "    [theme=dark] .colab-df-convert:hover {\n",
              "      background-color: #434B5C;\n",
              "      box-shadow: 0px 1px 3px 1px rgba(0, 0, 0, 0.15);\n",
              "      filter: drop-shadow(0px 1px 2px rgba(0, 0, 0, 0.3));\n",
              "      fill: #FFFFFF;\n",
              "    }\n",
              "  </style>\n",
              "\n",
              "      <script>\n",
              "        const buttonEl =\n",
              "          document.querySelector('#df-5fb8bdd5-f68e-4c4d-a018-a07d196d6205 button.colab-df-convert');\n",
              "        buttonEl.style.display =\n",
              "          google.colab.kernel.accessAllowed ? 'block' : 'none';\n",
              "\n",
              "        async function convertToInteractive(key) {\n",
              "          const element = document.querySelector('#df-5fb8bdd5-f68e-4c4d-a018-a07d196d6205');\n",
              "          const dataTable =\n",
              "            await google.colab.kernel.invokeFunction('convertToInteractive',\n",
              "                                                     [key], {});\n",
              "          if (!dataTable) return;\n",
              "\n",
              "          const docLinkHtml = 'Like what you see? Visit the ' +\n",
              "            '<a target=\"_blank\" href=https://colab.research.google.com/notebooks/data_table.ipynb>data table notebook</a>'\n",
              "            + ' to learn more about interactive tables.';\n",
              "          element.innerHTML = '';\n",
              "          dataTable['output_type'] = 'display_data';\n",
              "          await google.colab.output.renderOutput(dataTable, element);\n",
              "          const docLink = document.createElement('div');\n",
              "          docLink.innerHTML = docLinkHtml;\n",
              "          element.appendChild(docLink);\n",
              "        }\n",
              "      </script>\n",
              "    </div>\n",
              "  </div>\n",
              "  "
            ]
          },
          "metadata": {},
          "execution_count": 239
        }
      ],
      "source": [
        "vehicles.describe()"
      ]
    },
    {
      "cell_type": "markdown",
      "metadata": {
        "id": "e4M180PK7PvB"
      },
      "source": [
        "##### Explore Data"
      ]
    },
    {
      "cell_type": "code",
      "execution_count": 241,
      "metadata": {
        "scrolled": false,
        "id": "OzeIdCn_7PvC",
        "outputId": "2be1fab7-d90e-4a81-8014-d4d866836491",
        "colab": {
          "base_uri": "https://localhost:8080/",
          "height": 604
        }
      },
      "outputs": [
        {
          "output_type": "execute_result",
          "data": {
            "text/plain": [
              "array([[<matplotlib.axes._subplots.AxesSubplot object at 0x7f8a96627990>,\n",
              "        <matplotlib.axes._subplots.AxesSubplot object at 0x7f8a965e0390>],\n",
              "       [<matplotlib.axes._subplots.AxesSubplot object at 0x7f8a96595dd0>,\n",
              "        <matplotlib.axes._subplots.AxesSubplot object at 0x7f8a96555310>]],\n",
              "      dtype=object)"
            ]
          },
          "metadata": {},
          "execution_count": 241
        },
        {
          "output_type": "display_data",
          "data": {
            "text/plain": [
              "<Figure size 720x576 with 4 Axes>"
            ],
            "image/png": "[encoded data removed]"
          },
          "metadata": {
            "needs_background": "light"
          }
        }
      ],
      "source": [
        "#Distribution graphs of the vehicles dataframe\n",
        "vehicles.hist(bins=30, figsize=(10,8))"
      ]
    },
    {
      "cell_type": "code",
      "execution_count": 242,
      "metadata": {
        "id": "p2A4DMwd7PvC",
        "outputId": "2434c503-8ca4-4989-908f-48f104603d33",
        "colab": {
          "base_uri": "https://localhost:8080/",
          "height": 287
        }
      },
      "outputs": [
        {
          "output_type": "execute_result",
          "data": {
            "text/plain": [
              "<matplotlib.axes._subplots.AxesSubplot at 0x7f8a9b1c9d50>"
            ]
          },
          "metadata": {},
          "execution_count": 242
        },
        {
          "output_type": "display_data",
          "data": {
            "text/plain": [
              "<Figure size 432x288 with 2 Axes>"
            ],
            "image/png": "[encoded data removed]"
          },
          "metadata": {
            "needs_background": "light"
          }
        }
      ],
      "source": [
        "#Create Correlation Matrix to understand the correlation between numeric columns\n",
        "sns.heatmap(vehicles.corr(), annot=True)"
      ]
    },
    {
      "cell_type": "markdown",
      "metadata": {
        "id": "8y-FU7_W7PvD"
      },
      "source": [
        "##### Verify Data Quality"
      ]
    },
    {
      "cell_type": "code",
      "execution_count": 243,
      "metadata": {
        "id": "ahWgWecC7PvE",
        "outputId": "cd0bf068-39dd-431c-9897-46373902ba38",
        "colab": {
          "base_uri": "https://localhost:8080/"
        }
      },
      "outputs": [
        {
          "output_type": "execute_result",
          "data": {
            "text/plain": [
              "region               0\n",
              "price                0\n",
              "year              1205\n",
              "manufacturer     17646\n",
              "model             5277\n",
              "condition       174104\n",
              "cylinders       177678\n",
              "fuel              3013\n",
              "odometer          4400\n",
              "title_status      8242\n",
              "transmission      2556\n",
              "drive           130567\n",
              "size            306361\n",
              "type             92858\n",
              "paint_color     130203\n",
              "state                0\n",
              "dtype: int64"
            ]
          },
          "metadata": {},
          "execution_count": 243
        }
      ],
      "source": [
        "#Checking null values per column in the DataFrame\n",
        "vehicles.isnull().sum()"
      ]
    },
    {
      "cell_type": "markdown",
      "metadata": {
        "id": "FuRnmkJt7PvF"
      },
      "source": [
        "### Data Preparation\n",
        "\n",
        "After our initial exploration and fine tuning of the business understanding, it is time to construct our final dataset prior to modeling.  Here, we want to make sure to handle any integrity issues and cleaning, the engineering of new features, any transformations that we believe should happen (scaling, logarithms, normalization, etc.), and general preparation for modeling with `sklearn`. "
      ]
    },
    {
      "cell_type": "code",
      "execution_count": 244,
      "metadata": {
        "id": "NfDrcrYR7PvF"
      },
      "outputs": [],
      "source": [
        "#Since price have big varience between min and max, removing outliers using IQR\n",
        "first_quartile = vehicles['price'].quantile(.25)\n",
        "third_quartile = vehicles['price'].quantile(.75)\n",
        "iqr = third_quartile - first_quartile \n",
        "lower = first_quartile - 1.5*iqr\n",
        "upper = third_quartile + 1.5*iqr\n",
        "vehicles_no_outlier = vehicles.loc[(vehicles['price']>lower) & (vehicles['price']<upper)]"
      ]
    },
    {
      "cell_type": "code",
      "execution_count": 245,
      "metadata": {
        "id": "szb2-zjN7PvF"
      },
      "outputs": [],
      "source": [
        "#Since odometer have big varience between min and max, removing outliers using IQR\n",
        "first_quartile = vehicles_no_outlier['odometer'].quantile(.25)\n",
        "third_quartile = vehicles_no_outlier['odometer'].quantile(.75)\n",
        "iqr = third_quartile - first_quartile \n",
        "lower = first_quartile - 1.5*iqr\n",
        "upper = third_quartile + 1.5*iqr\n",
        "vehicles_no_outlier = vehicles_no_outlier.loc[(vehicles_no_outlier['odometer']>lower) & (vehicles_no_outlier['odometer']<upper)]"
      ]
    },
    {
      "cell_type": "code",
      "source": [
        "#Since year have big varience between min and max, removing outliers using IQR\n",
        "first_quartile = vehicles_no_outlier['year'].quantile(.25)\n",
        "third_quartile = vehicles_no_outlier['year'].quantile(.75)\n",
        "iqr = third_quartile - first_quartile \n",
        "lower = first_quartile - 1.5*iqr\n",
        "upper = third_quartile + 1.5*iqr\n",
        "vehicles_no_outlier = vehicles_no_outlier.loc[(vehicles_no_outlier['year']>lower) & (vehicles_no_outlier['year']<upper)]"
      ],
      "metadata": {
        "id": "yZe9jiu5Q3C_"
      },
      "execution_count": 246,
      "outputs": []
    },
    {
      "cell_type": "code",
      "execution_count": 247,
      "metadata": {
        "id": "sy87WNBz7PvG",
        "outputId": "f12435d0-c4f9-471c-cc92-6af44aa4b8db",
        "colab": {
          "base_uri": "https://localhost:8080/"
        }
      },
      "outputs": [
        {
          "output_type": "execute_result",
          "data": {
            "text/plain": [
              "array(['8 cylinders', '6 cylinders', nan, '4 cylinders', '5 cylinders',\n",
              "       'other', '3 cylinders', '10 cylinders', '12 cylinders'],\n",
              "      dtype=object)"
            ]
          },
          "metadata": {},
          "execution_count": 247
        }
      ],
      "source": [
        "vehicles_no_outlier['cylinders'].unique()"
      ]
    },
    {
      "cell_type": "code",
      "execution_count": 248,
      "metadata": {
        "scrolled": true,
        "id": "l7dQ0UhH7PvH",
        "outputId": "251eec97-2e07-43e5-df35-95df5ea4a70d",
        "colab": {
          "base_uri": "https://localhost:8080/"
        }
      },
      "outputs": [
        {
          "output_type": "execute_result",
          "data": {
            "text/plain": [
              "0     165804\n",
              "6      88964\n",
              "4      74549\n",
              "8      61399\n",
              "5       1618\n",
              "10      1330\n",
              "3        552\n",
              "12       109\n",
              "Name: cylinders, dtype: int64"
            ]
          },
          "metadata": {},
          "execution_count": 248
        }
      ],
      "source": [
        "#Removing sufix from 'cylinders' (categorical) to convert it to numerical value\n",
        "vehicles_no_outlier['cylinders'] = vehicles_no_outlier['cylinders'].str.replace(r' cylinders','')\n",
        "vehicles_no_outlier['cylinders'] = vehicles_no_outlier['cylinders'].str.replace(r'other','0')\n",
        "vehicles_no_outlier[['cylinders']] = vehicles_no_outlier[['cylinders']].fillna('0')\n",
        "vehicles_no_outlier.cylinders = vehicles_no_outlier.cylinders.astype(np.int64)\n",
        "vehicles_no_outlier['cylinders'].value_counts()"
      ]
    },
    {
      "cell_type": "code",
      "execution_count": 249,
      "metadata": {
        "id": "0zxV3C1d7PvH",
        "outputId": "f839cfbe-9ff9-48b4-c3bc-6dd1cb7d1115",
        "colab": {
          "base_uri": "https://localhost:8080/"
        }
      },
      "outputs": [
        {
          "output_type": "execute_result",
          "data": {
            "text/plain": [
              "array(['other', 'automatic', 'manual', nan], dtype=object)"
            ]
          },
          "metadata": {},
          "execution_count": 249
        }
      ],
      "source": [
        "vehicles_no_outlier['transmission'].unique()"
      ]
    },
    {
      "cell_type": "code",
      "execution_count": 250,
      "metadata": {
        "id": "eRugimNB7PvI",
        "outputId": "62395959-dd70-4911-f146-4831e61d5af1",
        "colab": {
          "base_uri": "https://localhost:8080/"
        }
      },
      "outputs": [
        {
          "output_type": "execute_result",
          "data": {
            "text/plain": [
              "1    312896\n",
              "0     63462\n",
              "2     17967\n",
              "Name: transmission, dtype: int64"
            ]
          },
          "metadata": {},
          "execution_count": 250
        }
      ],
      "source": [
        "#Converting categorical column 'transmission' to numerical\n",
        "vehicles_no_outlier['transmission'] = vehicles_no_outlier['transmission'].str.replace(r'other','0')\n",
        "vehicles_no_outlier['transmission'] = vehicles_no_outlier['transmission'].str.replace(r'automatic','1')\n",
        "vehicles_no_outlier['transmission'] = vehicles_no_outlier['transmission'].str.replace(r'manual','2')\n",
        "vehicles_no_outlier[['transmission']] = vehicles_no_outlier[['transmission']].fillna('0')\n",
        "vehicles_no_outlier.transmission = vehicles_no_outlier.transmission.astype(np.int64)\n",
        "vehicles_no_outlier['transmission'].value_counts()"
      ]
    },
    {
      "cell_type": "code",
      "execution_count": 251,
      "metadata": {
        "id": "B0l6tAUi7PvI",
        "outputId": "f74f4286-cc0a-4e8a-8228-eaf3979713f7",
        "colab": {
          "base_uri": "https://localhost:8080/"
        }
      },
      "outputs": [
        {
          "output_type": "execute_result",
          "data": {
            "text/plain": [
              "array([nan, 'rwd', '4wd', 'fwd'], dtype=object)"
            ]
          },
          "metadata": {},
          "execution_count": 251
        }
      ],
      "source": [
        "vehicles_no_outlier['drive'].unique()"
      ]
    },
    {
      "cell_type": "code",
      "execution_count": 252,
      "metadata": {
        "id": "RE_u0I2V7PvJ",
        "outputId": "a182d20e-750c-403e-f6ad-c5771cf03b1e",
        "colab": {
          "base_uri": "https://localhost:8080/"
        }
      },
      "outputs": [
        {
          "output_type": "execute_result",
          "data": {
            "text/plain": [
              "1    224685\n",
              "0    120066\n",
              "2     49574\n",
              "Name: drive, dtype: int64"
            ]
          },
          "metadata": {},
          "execution_count": 252
        }
      ],
      "source": [
        "#Converting categorical column 'drive' to numerical\n",
        "vehicles_no_outlier['drive'] = vehicles_no_outlier['drive'].str.replace(r'4wd','1')\n",
        "vehicles_no_outlier['drive'] = vehicles_no_outlier['drive'].str.replace(r'fwd','1')\n",
        "vehicles_no_outlier['drive'] = vehicles_no_outlier['drive'].str.replace(r'rwd','2')\n",
        "vehicles_no_outlier[['drive']] = vehicles_no_outlier[['drive']].fillna('0')\n",
        "vehicles_no_outlier.drive = vehicles_no_outlier.drive.astype(np.int64)\n",
        "vehicles_no_outlier['drive'].value_counts()"
      ]
    },
    {
      "cell_type": "code",
      "execution_count": 253,
      "metadata": {
        "id": "qNeZVzRX7PvJ",
        "outputId": "466a926c-6616-4219-c150-7a7b38f20c4a",
        "colab": {
          "base_uri": "https://localhost:8080/"
        }
      },
      "outputs": [
        {
          "output_type": "execute_result",
          "data": {
            "text/plain": [
              "region          string\n",
              "price            Int64\n",
              "year             Int64\n",
              "manufacturer    string\n",
              "model           string\n",
              "condition       string\n",
              "cylinders        Int64\n",
              "fuel            string\n",
              "odometer         Int64\n",
              "title_status    string\n",
              "transmission     Int64\n",
              "drive            Int64\n",
              "size            string\n",
              "type            string\n",
              "paint_color     string\n",
              "state           string\n",
              "dtype: object"
            ]
          },
          "metadata": {},
          "execution_count": 253
        }
      ],
      "source": [
        "#Converting DF columns to standard Dtypes\n",
        "vehicles_no_outlier.convert_dtypes().dtypes "
      ]
    },
    {
      "cell_type": "code",
      "execution_count": 254,
      "metadata": {
        "scrolled": true,
        "id": "e2y28ulc7PvK",
        "outputId": "81ba7d72-9013-4fea-fde9-e22f627634db",
        "colab": {
          "base_uri": "https://localhost:8080/",
          "height": 300
        }
      },
      "outputs": [
        {
          "output_type": "execute_result",
          "data": {
            "text/plain": [
              "               price           year      cylinders       odometer  \\\n",
              "count  394325.000000  394325.000000  394325.000000  394325.000000   \n",
              "mean    16606.272496    2012.605615       3.417298   91210.528589   \n",
              "std     13160.346587       5.417958       3.150628   60204.972677   \n",
              "min         0.000000    1995.000000       0.000000       0.000000   \n",
              "25%      5990.000000    2009.000000       0.000000   39182.000000   \n",
              "50%     13952.000000    2014.000000       4.000000   87000.000000   \n",
              "75%     25990.000000    2017.000000       6.000000  133439.000000   \n",
              "max     57341.000000    2022.000000      12.000000  277737.000000   \n",
              "\n",
              "        transmission          drive  \n",
              "count  394325.000000  394325.000000  \n",
              "mean        0.884626       0.821234  \n",
              "std         0.439536       0.631068  \n",
              "min         0.000000       0.000000  \n",
              "25%         1.000000       0.000000  \n",
              "50%         1.000000       1.000000  \n",
              "75%         1.000000       1.000000  \n",
              "max         2.000000       2.000000  "
            ],
            "text/html": [
              "\n",
              "  <div id=\"df-df7e76ca-19a0-42f0-939a-8f99c228abf4\">\n",
              "    <div class=\"colab-df-container\">\n",
              "      <div>\n",
              "<style scoped>\n",
              "    .dataframe tbody tr th:only-of-type {\n",
              "        vertical-align: middle;\n",
              "    }\n",
              "\n",
              "    .dataframe tbody tr th {\n",
              "        vertical-align: top;\n",
              "    }\n",
              "\n",
              "    .dataframe thead th {\n",
              "        text-align: right;\n",
              "    }\n",
              "</style>\n",
              "<table border=\"1\" class=\"dataframe\">\n",
              "  <thead>\n",
              "    <tr style=\"text-align: right;\">\n",
              "      <th></th>\n",
              "      <th>price</th>\n",
              "      <th>year</th>\n",
              "      <th>cylinders</th>\n",
              "      <th>odometer</th>\n",
              "      <th>transmission</th>\n",
              "      <th>drive</th>\n",
              "    </tr>\n",
              "  </thead>\n",
              "  <tbody>\n",
              "    <tr>\n",
              "      <th>count</th>\n",
              "      <td>394325.000000</td>\n",
              "      <td>394325.000000</td>\n",
              "      <td>394325.000000</td>\n",
              "      <td>394325.000000</td>\n",
              "      <td>394325.000000</td>\n",
              "      <td>394325.000000</td>\n",
              "    </tr>\n",
              "    <tr>\n",
              "      <th>mean</th>\n",
              "      <td>16606.272496</td>\n",
              "      <td>2012.605615</td>\n",
              "      <td>3.417298</td>\n",
              "      <td>91210.528589</td>\n",
              "      <td>0.884626</td>\n",
              "      <td>0.821234</td>\n",
              "    </tr>\n",
              "    <tr>\n",
              "      <th>std</th>\n",
              "      <td>13160.346587</td>\n",
              "      <td>5.417958</td>\n",
              "      <td>3.150628</td>\n",
              "      <td>60204.972677</td>\n",
              "      <td>0.439536</td>\n",
              "      <td>0.631068</td>\n",
              "    </tr>\n",
              "    <tr>\n",
              "      <th>min</th>\n",
              "      <td>0.000000</td>\n",
              "      <td>1995.000000</td>\n",
              "      <td>0.000000</td>\n",
              "      <td>0.000000</td>\n",
              "      <td>0.000000</td>\n",
              "      <td>0.000000</td>\n",
              "    </tr>\n",
              "    <tr>\n",
              "      <th>25%</th>\n",
              "      <td>5990.000000</td>\n",
              "      <td>2009.000000</td>\n",
              "      <td>0.000000</td>\n",
              "      <td>39182.000000</td>\n",
              "      <td>1.000000</td>\n",
              "      <td>0.000000</td>\n",
              "    </tr>\n",
              "    <tr>\n",
              "      <th>50%</th>\n",
              "      <td>13952.000000</td>\n",
              "      <td>2014.000000</td>\n",
              "      <td>4.000000</td>\n",
              "      <td>87000.000000</td>\n",
              "      <td>1.000000</td>\n",
              "      <td>1.000000</td>\n",
              "    </tr>\n",
              "    <tr>\n",
              "      <th>75%</th>\n",
              "      <td>25990.000000</td>\n",
              "      <td>2017.000000</td>\n",
              "      <td>6.000000</td>\n",
              "      <td>133439.000000</td>\n",
              "      <td>1.000000</td>\n",
              "      <td>1.000000</td>\n",
              "    </tr>\n",
              "    <tr>\n",
              "      <th>max</th>\n",
              "      <td>57341.000000</td>\n",
              "      <td>2022.000000</td>\n",
              "      <td>12.000000</td>\n",
              "      <td>277737.000000</td>\n",
              "      <td>2.000000</td>\n",
              "      <td>2.000000</td>\n",
              "    </tr>\n",
              "  </tbody>\n",
              "</table>\n",
              "</div>\n",
              "      <button class=\"colab-df-convert\" onclick=\"convertToInteractive('df-df7e76ca-19a0-42f0-939a-8f99c228abf4')\"\n",
              "              title=\"Convert this dataframe to an interactive table.\"\n",
              "              style=\"display:none;\">\n",
              "        \n",
              "  <svg xmlns=\"http://www.w3.org/2000/svg\" height=\"24px\"viewBox=\"0 0 24 24\"\n",
              "       width=\"24px\">\n",
              "    <path d=\"M0 0h24v24H0V0z\" fill=\"none\"/>\n",
              "    <path d=\"M18.56 5.44l.94 2.06.94-2.06 2.06-.94-2.06-.94-.94-2.06-.94 2.06-2.06.94zm-11 1L8.5 8.5l.94-2.06 2.06-.94-2.06-.94L8.5 2.5l-.94 2.06-2.06.94zm10 10l.94 2.06.94-2.06 2.06-.94-2.06-.94-.94-2.06-.94 2.06-2.06.94z\"/><path d=\"M17.41 7.96l-1.37-1.37c-.4-.4-.92-.59-1.43-.59-.52 0-1.04.2-1.43.59L10.3 9.45l-7.72 7.72c-.78.78-.78 2.05 0 2.83L4 21.41c.39.39.9.59 1.41.59.51 0 1.02-.2 1.41-.59l7.78-7.78 2.81-2.81c.8-.78.8-2.07 0-2.86zM5.41 20L4 18.59l7.72-7.72 1.47 1.35L5.41 20z\"/>\n",
              "  </svg>\n",
              "      </button>\n",
              "      \n",
              "  <style>\n",
              "    .colab-df-container {\n",
              "      display:flex;\n",
              "      flex-wrap:wrap;\n",
              "      gap: 12px;\n",
              "    }\n",
              "\n",
              "    .colab-df-convert {\n",
              "      background-color: #E8F0FE;\n",
              "      border: none;\n",
              "      border-radius: 50%;\n",
              "      cursor: pointer;\n",
              "      display: none;\n",
              "      fill: #1967D2;\n",
              "      height: 32px;\n",
              "      padding: 0 0 0 0;\n",
              "      width: 32px;\n",
              "    }\n",
              "\n",
              "    .colab-df-convert:hover {\n",
              "      background-color: #E2EBFA;\n",
              "      box-shadow: 0px 1px 2px rgba(60, 64, 67, 0.3), 0px 1px 3px 1px rgba(60, 64, 67, 0.15);\n",
              "      fill: #174EA6;\n",
              "    }\n",
              "\n",
              "    [theme=dark] .colab-df-convert {\n",
              "      background-color: #3B4455;\n",
              "      fill: #D2E3FC;\n",
              "    }\n",
              "\n",
              "    [theme=dark] .colab-df-convert:hover {\n",
              "      background-color: #434B5C;\n",
              "      box-shadow: 0px 1px 3px 1px rgba(0, 0, 0, 0.15);\n",
              "      filter: drop-shadow(0px 1px 2px rgba(0, 0, 0, 0.3));\n",
              "      fill: #FFFFFF;\n",
              "    }\n",
              "  </style>\n",
              "\n",
              "      <script>\n",
              "        const buttonEl =\n",
              "          document.querySelector('#df-df7e76ca-19a0-42f0-939a-8f99c228abf4 button.colab-df-convert');\n",
              "        buttonEl.style.display =\n",
              "          google.colab.kernel.accessAllowed ? 'block' : 'none';\n",
              "\n",
              "        async function convertToInteractive(key) {\n",
              "          const element = document.querySelector('#df-df7e76ca-19a0-42f0-939a-8f99c228abf4');\n",
              "          const dataTable =\n",
              "            await google.colab.kernel.invokeFunction('convertToInteractive',\n",
              "                                                     [key], {});\n",
              "          if (!dataTable) return;\n",
              "\n",
              "          const docLinkHtml = 'Like what you see? Visit the ' +\n",
              "            '<a target=\"_blank\" href=https://colab.research.google.com/notebooks/data_table.ipynb>data table notebook</a>'\n",
              "            + ' to learn more about interactive tables.';\n",
              "          element.innerHTML = '';\n",
              "          dataTable['output_type'] = 'display_data';\n",
              "          await google.colab.output.renderOutput(dataTable, element);\n",
              "          const docLink = document.createElement('div');\n",
              "          docLink.innerHTML = docLinkHtml;\n",
              "          element.appendChild(docLink);\n",
              "        }\n",
              "      </script>\n",
              "    </div>\n",
              "  </div>\n",
              "  "
            ]
          },
          "metadata": {},
          "execution_count": 254
        }
      ],
      "source": [
        "vehicles_no_outlier.describe()"
      ]
    },
    {
      "cell_type": "markdown",
      "metadata": {
        "id": "QBN8VD6x7PvK"
      },
      "source": [
        "##### Checking columns with NaN values and finding opportunities to fill with existing column values"
      ]
    },
    {
      "cell_type": "code",
      "execution_count": 255,
      "metadata": {
        "scrolled": true,
        "id": "iy1fphBM7PvK",
        "outputId": "55778ba8-6480-4480-ca19-d42c80c2302e",
        "colab": {
          "base_uri": "https://localhost:8080/"
        }
      },
      "outputs": [
        {
          "output_type": "execute_result",
          "data": {
            "text/plain": [
              "array(['gas', 'other', 'diesel', 'hybrid', nan, 'electric'], dtype=object)"
            ]
          },
          "metadata": {},
          "execution_count": 255
        }
      ],
      "source": [
        "vehicles_no_outlier['fuel'].unique()"
      ]
    },
    {
      "cell_type": "code",
      "execution_count": 256,
      "metadata": {
        "id": "wYdd1NjW7PvL",
        "outputId": "fef3de9d-0a79-408b-d654-9a94bc9f7e2e",
        "colab": {
          "base_uri": "https://localhost:8080/"
        }
      },
      "outputs": [
        {
          "output_type": "execute_result",
          "data": {
            "text/plain": [
              "gas         332202\n",
              "other        31458\n",
              "diesel       23974\n",
              "hybrid        5089\n",
              "electric      1602\n",
              "Name: fuel, dtype: int64"
            ]
          },
          "metadata": {},
          "execution_count": 256
        }
      ],
      "source": [
        "#Replace the 'NaN' values in fuel column with 'other'\n",
        "vehicles_no_outlier[['fuel']] = vehicles_no_outlier[['fuel']].fillna('other')\n",
        "vehicles_no_outlier['fuel'].value_counts()"
      ]
    },
    {
      "cell_type": "code",
      "execution_count": 257,
      "metadata": {
        "scrolled": true,
        "id": "rNGNH2t-7PvL",
        "outputId": "afb9ec40-80e6-403c-d9b0-5cdbafa118d5",
        "colab": {
          "base_uri": "https://localhost:8080/"
        }
      },
      "outputs": [
        {
          "output_type": "execute_result",
          "data": {
            "text/plain": [
              "array(['pickup', 'truck', 'other', 'coupe', 'SUV', 'hatchback',\n",
              "       'mini-van', 'sedan', nan, 'offroad', 'bus', 'van', 'convertible',\n",
              "       'wagon'], dtype=object)"
            ]
          },
          "metadata": {},
          "execution_count": 257
        }
      ],
      "source": [
        "vehicles_no_outlier['type'].unique()"
      ]
    },
    {
      "cell_type": "code",
      "execution_count": 258,
      "metadata": {
        "id": "QvAZES5G7PvM",
        "outputId": "0aad9abd-23a9-4f3f-f9d6-686ceaa58dfe",
        "colab": {
          "base_uri": "https://localhost:8080/"
        }
      },
      "outputs": [
        {
          "output_type": "execute_result",
          "data": {
            "text/plain": [
              "other          102880\n",
              "sedan           83996\n",
              "SUV             74336\n",
              "pickup          39584\n",
              "truck           31073\n",
              "coupe           16253\n",
              "hatchback       16242\n",
              "wagon           10429\n",
              "van              7955\n",
              "convertible      6032\n",
              "mini-van         4689\n",
              "bus               442\n",
              "offroad           414\n",
              "Name: type, dtype: int64"
            ]
          },
          "metadata": {},
          "execution_count": 258
        }
      ],
      "source": [
        "#Replace the 'NaN' values in type column with 'other'\n",
        "vehicles_no_outlier[['type']] = vehicles_no_outlier[['type']].fillna('other')\n",
        "vehicles_no_outlier['type'].value_counts()"
      ]
    },
    {
      "cell_type": "code",
      "execution_count": 259,
      "metadata": {
        "id": "fKkoVb087PvM",
        "outputId": "df1f8691-0458-4c55-8bec-62c8a8378ad8",
        "colab": {
          "base_uri": "https://localhost:8080/"
        }
      },
      "outputs": [
        {
          "output_type": "execute_result",
          "data": {
            "text/plain": [
              "array(['sierra 1500 crew cab slt', 'silverado 1500',\n",
              "       'silverado 1500 crew', ..., '1500 z71', 'ATI', '96 Suburban'],\n",
              "      dtype=object)"
            ]
          },
          "metadata": {},
          "execution_count": 259
        }
      ],
      "source": [
        "vehicles_no_outlier['model'].unique()"
      ]
    },
    {
      "cell_type": "code",
      "execution_count": 260,
      "metadata": {
        "id": "wa_Frks_7PvM",
        "outputId": "ac8e17ff-e0e8-4ee4-997c-db41d88ff85f",
        "colab": {
          "base_uri": "https://localhost:8080/"
        }
      },
      "outputs": [
        {
          "output_type": "execute_result",
          "data": {
            "text/plain": [
              "f-150                        7560\n",
              "silverado 1500               4936\n",
              "1500                         4095\n",
              "Other                        3675\n",
              "camry                        3022\n",
              "                             ... \n",
              "f-350 diesel 4x4 crew cab       1\n",
              "f 150 4x4                       1\n",
              "Escalade Premium                1\n",
              "04 mb ml350                     1\n",
              "96 Suburban                     1\n",
              "Name: model, Length: 24677, dtype: int64"
            ]
          },
          "metadata": {},
          "execution_count": 260
        }
      ],
      "source": [
        "#Replace the 'NaN' values in model columns with 'Other'\n",
        "vehicles_no_outlier[['model']] = vehicles_no_outlier[['model']].fillna('Other')\n",
        "vehicles_no_outlier.loc[(vehicles_no_outlier.model=='♿'),'model'] = 'other'\n",
        "vehicles_no_outlier['model'].value_counts()"
      ]
    },
    {
      "cell_type": "code",
      "execution_count": 261,
      "metadata": {
        "id": "uSu5URFC7PvN",
        "outputId": "88b75171-b4bf-404f-e63b-324b4a6e2417",
        "colab": {
          "base_uri": "https://localhost:8080/"
        }
      },
      "outputs": [
        {
          "output_type": "execute_result",
          "data": {
            "text/plain": [
              "array(['clean', 'rebuilt', 'lien', nan, 'salvage', 'missing',\n",
              "       'parts only'], dtype=object)"
            ]
          },
          "metadata": {},
          "execution_count": 261
        }
      ],
      "source": [
        "vehicles_no_outlier['title_status'].unique()"
      ]
    },
    {
      "cell_type": "code",
      "execution_count": 262,
      "metadata": {
        "id": "xAhI1NJ47PvO",
        "outputId": "8268c694-1ac1-4c81-f577-3cc72a24ecb2",
        "colab": {
          "base_uri": "https://localhost:8080/"
        }
      },
      "outputs": [
        {
          "output_type": "execute_result",
          "data": {
            "text/plain": [
              "clean         374942\n",
              "missing         7378\n",
              "rebuilt         6945\n",
              "salvage         3634\n",
              "lien            1310\n",
              "parts only       116\n",
              "Name: title_status, dtype: int64"
            ]
          },
          "metadata": {},
          "execution_count": 262
        }
      ],
      "source": [
        "#Replace the 'NaN' values in title_status columns with 'missing'\n",
        "vehicles_no_outlier[['title_status']] = vehicles_no_outlier[['title_status']].fillna('missing')\n",
        "vehicles_no_outlier.loc[(vehicles_no_outlier.title_status=='other'), 'title_status'] = 'missing'\n",
        "vehicles_no_outlier['title_status'].value_counts()"
      ]
    },
    {
      "cell_type": "code",
      "execution_count": 263,
      "metadata": {
        "id": "k65ZEW6q7PvO",
        "outputId": "4ea6b707-9bad-46d0-f7fa-1497eb48c513",
        "colab": {
          "base_uri": "https://localhost:8080/"
        }
      },
      "outputs": [
        {
          "output_type": "execute_result",
          "data": {
            "text/plain": [
              "array(['white', 'blue', 'red', 'black', 'silver', 'grey', nan, 'brown',\n",
              "       'yellow', 'orange', 'green', 'custom', 'purple'], dtype=object)"
            ]
          },
          "metadata": {},
          "execution_count": 263
        }
      ],
      "source": [
        "vehicles_no_outlier['paint_color'].unique()"
      ]
    },
    {
      "cell_type": "code",
      "execution_count": 264,
      "metadata": {
        "scrolled": true,
        "id": "9wBXhqiQ7PvP",
        "outputId": "7e7d050e-8c0a-49b2-9fd4-84ce1b2119e3",
        "colab": {
          "base_uri": "https://localhost:8080/"
        }
      },
      "outputs": [
        {
          "output_type": "execute_result",
          "data": {
            "text/plain": [
              "other     124730\n",
              "white      73654\n",
              "black      59053\n",
              "silver     41472\n",
              "blue       28793\n",
              "red        27370\n",
              "grey       23136\n",
              "green       6238\n",
              "brown       6005\n",
              "orange      1675\n",
              "yellow      1642\n",
              "purple       557\n",
              "Name: paint_color, dtype: int64"
            ]
          },
          "metadata": {},
          "execution_count": 264
        }
      ],
      "source": [
        "#Replace the 'NaN' and 'custom' values in paint_color columns with 'other'\n",
        "vehicles_no_outlier[['paint_color']] = vehicles_no_outlier[['paint_color']].fillna('other')\n",
        "vehicles_no_outlier.loc[(vehicles_no_outlier.paint_color==('custom')) | (vehicles_no_outlier.paint_color==('missing')),'paint_color'] = 'other'\n",
        "vehicles_no_outlier['paint_color'].value_counts()"
      ]
    },
    {
      "cell_type": "markdown",
      "metadata": {
        "id": "upG_hkiy7PvP"
      },
      "source": [
        "##### Conditionally setting values for 'Condition' colummn based on 'Price' and 'Title'"
      ]
    },
    {
      "cell_type": "code",
      "execution_count": 265,
      "metadata": {
        "id": "5rOaK80T7PvQ"
      },
      "outputs": [],
      "source": [
        "vehicles_no_outlier.loc[((vehicles_no_outlier.condition.isnull()) & (vehicles_no_outlier.title_status=='salvage') &\n",
        "                         ((vehicles_no_outlier.price>=0) & (vehicles_no_outlier.price<=500))), 'condition'] = 'salvage'"
      ]
    },
    {
      "cell_type": "code",
      "execution_count": 266,
      "metadata": {
        "id": "gmdjZ9WC7PvQ"
      },
      "outputs": [],
      "source": [
        "vehicles_no_outlier.loc[((vehicles_no_outlier.condition.isnull()) & (vehicles_no_outlier.title_status=='missing') &\n",
        "                         ((vehicles_no_outlier.price>=0)&(vehicles_no_outlier.price<=500))), 'condition'] = 'salvage'"
      ]
    },
    {
      "cell_type": "code",
      "execution_count": 267,
      "metadata": {
        "id": "wpfpOgTw7PvR"
      },
      "outputs": [],
      "source": [
        "vehicles_no_outlier.loc[((vehicles_no_outlier.condition.isnull()) & (vehicles_no_outlier.title_status=='missing') &\n",
        "                         ((vehicles_no_outlier.price>=501)&(vehicles_no_outlier.price<=2000))), 'condition'] = 'fair'"
      ]
    },
    {
      "cell_type": "code",
      "execution_count": 268,
      "metadata": {
        "id": "UVbzRSEi7PvR"
      },
      "outputs": [],
      "source": [
        "vehicles_no_outlier.loc[((vehicles_no_outlier.condition.isnull()) & (vehicles_no_outlier.title_status=='missing') &\n",
        "                         ((vehicles_no_outlier.price>=2001)&(vehicles_no_outlier.price<=13495))), 'condition'] = 'good'"
      ]
    },
    {
      "cell_type": "code",
      "execution_count": 269,
      "metadata": {
        "id": "HHT-gQ197PvR"
      },
      "outputs": [],
      "source": [
        "vehicles_no_outlier.loc[((vehicles_no_outlier.condition.isnull()) & (vehicles_no_outlier.title_status=='missing') &\n",
        "                         ((vehicles_no_outlier.price>=13496)&(vehicles_no_outlier.price<=25000))), 'condition'] = 'excellent'"
      ]
    },
    {
      "cell_type": "code",
      "execution_count": 270,
      "metadata": {
        "id": "pYt0lVHb7PvR"
      },
      "outputs": [],
      "source": [
        "vehicles_no_outlier.loc[((vehicles_no_outlier.condition.isnull()) & (vehicles_no_outlier.title_status=='missing') &\n",
        "                         ((vehicles_no_outlier.price>=25001)&(vehicles_no_outlier.price<=40000))), 'condition'] = 'like new'"
      ]
    },
    {
      "cell_type": "code",
      "execution_count": 271,
      "metadata": {
        "id": "hpKJJL697PvS"
      },
      "outputs": [],
      "source": [
        "vehicles_no_outlier.loc[((vehicles_no_outlier.condition.isnull()) & (vehicles_no_outlier.title_status=='missing') &\n",
        "                         (vehicles_no_outlier.price>40000)), 'condition'] = 'new'"
      ]
    },
    {
      "cell_type": "code",
      "execution_count": 272,
      "metadata": {
        "id": "ChNvH5rr7PvS"
      },
      "outputs": [],
      "source": [
        "vehicles_no_outlier.loc[((vehicles_no_outlier.condition.isnull()) & \n",
        "                         ((vehicles_no_outlier.price>=0)&(vehicles_no_outlier.price<=2000))), 'condition'] = 'salvage'"
      ]
    },
    {
      "cell_type": "code",
      "execution_count": 273,
      "metadata": {
        "id": "K2JQ7-597PvS"
      },
      "outputs": [],
      "source": [
        "vehicles_no_outlier.loc[((vehicles_no_outlier.condition.isnull()) & \n",
        "                         ((vehicles_no_outlier.price>=2001)&(vehicles_no_outlier.price<=5000))), 'condition'] = 'fair'"
      ]
    },
    {
      "cell_type": "code",
      "execution_count": 274,
      "metadata": {
        "id": "stEWayaD7PvS"
      },
      "outputs": [],
      "source": [
        "vehicles_no_outlier.loc[((vehicles_no_outlier.condition.isnull()) & \n",
        "                         ((vehicles_no_outlier.price>=5001)&(vehicles_no_outlier.price<=13495))), 'condition'] = 'good'"
      ]
    },
    {
      "cell_type": "code",
      "execution_count": 275,
      "metadata": {
        "id": "3hIsKFpZ7PvT"
      },
      "outputs": [],
      "source": [
        "vehicles_no_outlier.loc[((vehicles_no_outlier.condition.isnull()) & \n",
        "                         ((vehicles_no_outlier.price>=13496)&(vehicles_no_outlier.price<=25000))), 'condition'] = 'excellent'"
      ]
    },
    {
      "cell_type": "code",
      "execution_count": 276,
      "metadata": {
        "id": "RnsimtvW7PvT"
      },
      "outputs": [],
      "source": [
        "vehicles_no_outlier.loc[((vehicles_no_outlier.condition.isnull()) & \n",
        "                         ((vehicles_no_outlier.price>=25001)&(vehicles_no_outlier.price<=40000))), 'condition'] = 'like new'"
      ]
    },
    {
      "cell_type": "code",
      "execution_count": 277,
      "metadata": {
        "id": "8ZyuRIMM7PvT"
      },
      "outputs": [],
      "source": [
        "vehicles_no_outlier.loc[((vehicles_no_outlier.condition.isnull()) & (vehicles_no_outlier.price>40000)), 'condition'] = 'new'"
      ]
    },
    {
      "cell_type": "code",
      "execution_count": 278,
      "metadata": {
        "scrolled": true,
        "id": "1xSxwHR57PvU",
        "outputId": "f75df65b-4acf-4b44-902c-2f2e23f5d320",
        "colab": {
          "base_uri": "https://localhost:8080/"
        }
      },
      "outputs": [
        {
          "output_type": "execute_result",
          "data": {
            "text/plain": [
              "region               0\n",
              "price                0\n",
              "year                 0\n",
              "manufacturer     12345\n",
              "model                0\n",
              "condition            0\n",
              "cylinders            0\n",
              "fuel                 0\n",
              "odometer             0\n",
              "title_status         0\n",
              "transmission         0\n",
              "drive                0\n",
              "size            284153\n",
              "type                 0\n",
              "paint_color          0\n",
              "state                0\n",
              "dtype: int64"
            ]
          },
          "metadata": {},
          "execution_count": 278
        }
      ],
      "source": [
        "vehicles_no_outlier.isnull().sum()"
      ]
    },
    {
      "cell_type": "code",
      "source": [
        "vehicles_no_outlier.columns"
      ],
      "metadata": {
        "colab": {
          "base_uri": "https://localhost:8080/"
        },
        "id": "HuY3w9cHZDSh",
        "outputId": "931b4b2b-f07f-4a41-dfd8-592033c1c46f"
      },
      "execution_count": 502,
      "outputs": [
        {
          "output_type": "execute_result",
          "data": {
            "text/plain": [
              "Index(['region', 'price', 'year', 'manufacturer', 'model', 'condition',\n",
              "       'cylinders', 'fuel', 'odometer', 'title_status', 'transmission',\n",
              "       'drive', 'size', 'type', 'paint_color', 'state'],\n",
              "      dtype='object')"
            ]
          },
          "metadata": {},
          "execution_count": 502
        }
      ]
    },
    {
      "cell_type": "code",
      "source": [
        "plot_data = vehicles_no_outlier.dropna()"
      ],
      "metadata": {
        "id": "mDaRmNUBZV9j"
      },
      "execution_count": 503,
      "outputs": []
    },
    {
      "cell_type": "code",
      "source": [
        "#Price of used cars over the years\n",
        "from matplotlib import rcParams\n",
        "rcParams['figure.figsize'] = 25,5\n",
        "sns.barplot(data=plot_data, x='year', y='price')\n",
        "plt.title('Price of used cars over the years')"
      ],
      "metadata": {
        "colab": {
          "base_uri": "https://localhost:8080/",
          "height": 373
        },
        "id": "8yXMBvS1Xt-K",
        "outputId": "84b8b340-dc04-4624-c938-e255cea98cbd"
      },
      "execution_count": 523,
      "outputs": [
        {
          "output_type": "execute_result",
          "data": {
            "text/plain": [
              "Text(0.5, 1.0, 'Price of used cars over the years')"
            ]
          },
          "metadata": {},
          "execution_count": 523
        },
        {
          "output_type": "display_data",
          "data": {
            "text/plain": [
              "<Figure size 1800x360 with 1 Axes>"
            ],
            "image/png": "[encoded data removed]"
          },
          "metadata": {}
        }
      ]
    },
    {
      "cell_type": "code",
      "source": [
        "#Used cars over the years\n",
        "rcParams['figure.figsize'] = 25,5\n",
        "sns.countplot(data=plot_data, x='year')\n",
        "plt.title('Used cars over the years')"
      ],
      "metadata": {
        "colab": {
          "base_uri": "https://localhost:8080/",
          "height": 373
        },
        "id": "qwtH26lZXuJc",
        "outputId": "0d9e7d94-0220-489c-feef-be063a562b57"
      },
      "execution_count": 529,
      "outputs": [
        {
          "output_type": "execute_result",
          "data": {
            "text/plain": [
              "Text(0.5, 1.0, 'Used cars over the years')"
            ]
          },
          "metadata": {},
          "execution_count": 529
        },
        {
          "output_type": "display_data",
          "data": {
            "text/plain": [
              "<Figure size 1800x360 with 1 Axes>"
            ],
            "image/png": "[encoded data removed]"
          },
          "metadata": {}
        }
      ]
    },
    {
      "cell_type": "code",
      "source": [
        "# Condition of used car and its influence on price\n",
        "sns.barplot(data=plot_data, x='condition', y='price')\n",
        "plt.title('Condition of used cars')"
      ],
      "metadata": {
        "colab": {
          "base_uri": "https://localhost:8080/",
          "height": 373
        },
        "id": "PkW6u9V3cciI",
        "outputId": "54931a21-f044-4a36-bc2e-cd2e0d979891"
      },
      "execution_count": 538,
      "outputs": [
        {
          "output_type": "execute_result",
          "data": {
            "text/plain": [
              "Text(0.5, 1.0, 'Condition of used cars')"
            ]
          },
          "metadata": {},
          "execution_count": 538
        },
        {
          "output_type": "display_data",
          "data": {
            "text/plain": [
              "<Figure size 1800x360 with 1 Axes>"
            ],
            "image/png": "[encoded data removed]"
          },
          "metadata": {}
        }
      ]
    },
    {
      "cell_type": "code",
      "source": [
        "# Condition of used cars along with title and its influence on price\n",
        "sns.barplot(data=plot_data, x='condition', y='price', hue='title_status')\n",
        "plt.title('Condition and Title status of used car and Price')"
      ],
      "metadata": {
        "colab": {
          "base_uri": "https://localhost:8080/",
          "height": 564
        },
        "id": "tOQ6q0t2gxwY",
        "outputId": "d5163825-2cc0-4e1b-cd89-9889b1c47a5e"
      },
      "execution_count": 571,
      "outputs": [
        {
          "output_type": "execute_result",
          "data": {
            "text/plain": [
              "Text(0.5, 1.0, 'Condition and Title status of used car and Price')"
            ]
          },
          "metadata": {},
          "execution_count": 571
        },
        {
          "output_type": "display_data",
          "data": {
            "text/plain": [
              "<Figure size 2880x720 with 1 Axes>"
            ],
            "image/png": "[encoded data removed]"
          },
          "metadata": {}
        }
      ]
    },
    {
      "cell_type": "code",
      "source": [
        "# Drive of used car and its influence on price\n",
        "sns.barplot(data=plot_data, x='drive', y='price') ## Drive: 0-other, 1-FWD, 2-RWD ##Transmission: 0-other, 1-Automatic, 2-Manual\n",
        "plt.title('Drive of used car and Price')"
      ],
      "metadata": {
        "colab": {
          "base_uri": "https://localhost:8080/",
          "height": 564
        },
        "id": "OZ2POwdbdhxo",
        "outputId": "b6094e5d-f12d-4f07-de63-3fc6d2d1b2af"
      },
      "execution_count": 574,
      "outputs": [
        {
          "output_type": "execute_result",
          "data": {
            "text/plain": [
              "Text(0.5, 1.0, 'Drive of used car and Price')"
            ]
          },
          "metadata": {},
          "execution_count": 574
        },
        {
          "output_type": "display_data",
          "data": {
            "text/plain": [
              "<Figure size 2880x720 with 1 Axes>"
            ],
            "image/png": "[encoded data removed]"
          },
          "metadata": {}
        }
      ]
    },
    {
      "cell_type": "code",
      "source": [
        "#Transmission of used car and its influence on price\n",
        "sns.barplot(data=plot_data, x='transmission', y='price') ## Drive: 0-other, 1-FWD, 2-RWD ##Transmission: 0-other, 1-Automatic, 2-Manual\n",
        "plt.title('Transmission of used car and Price')"
      ],
      "metadata": {
        "colab": {
          "base_uri": "https://localhost:8080/",
          "height": 564
        },
        "id": "6U2l3k2lOMh1",
        "outputId": "c09f2b16-ddc1-4cb5-c72a-750af17b0254"
      },
      "execution_count": 577,
      "outputs": [
        {
          "output_type": "execute_result",
          "data": {
            "text/plain": [
              "Text(0.5, 1.0, 'Transmission of used car and Price')"
            ]
          },
          "metadata": {},
          "execution_count": 577
        },
        {
          "output_type": "display_data",
          "data": {
            "text/plain": [
              "<Figure size 2880x720 with 1 Axes>"
            ],
            "image/png": "[encoded data removed]"
          },
          "metadata": {}
        }
      ]
    },
    {
      "cell_type": "code",
      "source": [
        "# Transmission of used car and its influence on price\n",
        "sns.barplot(data=plot_data, x='cylinders', y='price') #0-other, 1-Automatic, 2-Manual\n",
        "plt.title('Cylinders of used cars and price impact')"
      ],
      "metadata": {
        "colab": {
          "base_uri": "https://localhost:8080/",
          "height": 373
        },
        "id": "oE5lz2Cadh0q",
        "outputId": "9f609b65-6025-41ab-92f6-7c3c6fde09dc"
      },
      "execution_count": 579,
      "outputs": [
        {
          "output_type": "execute_result",
          "data": {
            "text/plain": [
              "Text(0.5, 1.0, 'Cylinders of used cars and price impact')"
            ]
          },
          "metadata": {},
          "execution_count": 579
        },
        {
          "output_type": "display_data",
          "data": {
            "text/plain": [
              "<Figure size 1440x360 with 1 Axes>"
            ],
            "image/png": "[encoded data removed]"
          },
          "metadata": {}
        }
      ]
    },
    {
      "cell_type": "code",
      "source": [
        "#Manufacturer of used cars and its impact to price\n",
        "rcParams['figure.figsize'] = 30,5\n",
        "sns.barplot(data=plot_data, x='manufacturer', y='price')\n",
        "plt.xticks(rotation=45)\n",
        "plt.title('Brands of used cars and price impact')"
      ],
      "metadata": {
        "colab": {
          "base_uri": "https://localhost:8080/",
          "height": 433
        },
        "id": "0RO7DMbgfYB7",
        "outputId": "980b1b27-609e-4844-c8e9-7e174cf6fbd5"
      },
      "execution_count": 551,
      "outputs": [
        {
          "output_type": "execute_result",
          "data": {
            "text/plain": [
              "Text(0.5, 1.0, 'Brands of used cars and price impact')"
            ]
          },
          "metadata": {},
          "execution_count": 551
        },
        {
          "output_type": "display_data",
          "data": {
            "text/plain": [
              "<Figure size 2160x360 with 1 Axes>"
            ],
            "image/png": "[encoded data removed]"
          },
          "metadata": {}
        }
      ]
    },
    {
      "cell_type": "code",
      "source": [
        "#Type of used cars and its impact to price\n",
        "rcParams['figure.figsize'] = 20,5\n",
        "sns.barplot(data=plot_data, x='type', y='price')\n",
        "#plt.xticks(rotation=45)\n",
        "plt.title('Type of used cars and price impact')"
      ],
      "metadata": {
        "colab": {
          "base_uri": "https://localhost:8080/",
          "height": 373
        },
        "id": "p6N7v5vkgeya",
        "outputId": "02af4446-e260-4fda-f96e-a3c6dbe0dd07"
      },
      "execution_count": 555,
      "outputs": [
        {
          "output_type": "execute_result",
          "data": {
            "text/plain": [
              "Text(0.5, 1.0, 'Type of used cars and price impact')"
            ]
          },
          "metadata": {},
          "execution_count": 555
        },
        {
          "output_type": "display_data",
          "data": {
            "text/plain": [
              "<Figure size 1440x360 with 1 Axes>"
            ],
            "image/png": "[encoded data removed]"
          },
          "metadata": {}
        }
      ]
    },
    {
      "cell_type": "code",
      "source": [
        "#Fuel type of used cars and its impact to price\n",
        "rcParams['figure.figsize'] = 20,5\n",
        "sns.barplot(data=plot_data, x='fuel', y='price')\n",
        "#plt.xticks(rotation=45)\n",
        "plt.title('Fuel type of used cars and price impact')"
      ],
      "metadata": {
        "colab": {
          "base_uri": "https://localhost:8080/",
          "height": 373
        },
        "id": "5FinZ3lxRDGR",
        "outputId": "ea2d10a7-da04-430a-d892-e3f6ec8181a4"
      },
      "execution_count": 578,
      "outputs": [
        {
          "output_type": "execute_result",
          "data": {
            "text/plain": [
              "Text(0.5, 1.0, 'Fuel type of used cars and price impact')"
            ]
          },
          "metadata": {},
          "execution_count": 578
        },
        {
          "output_type": "display_data",
          "data": {
            "text/plain": [
              "<Figure size 1440x360 with 1 Axes>"
            ],
            "image/png": "[encoded data removed]"
          },
          "metadata": {}
        }
      ]
    },
    {
      "cell_type": "code",
      "source": [
        "#Manufacturer with car type and its impact to price\n",
        "rcParams['figure.figsize'] = 40,10\n",
        "sns.barplot(data=plot_data.query(\"condition in ['excellent', 'good', 'like new', 'new', 'fair']\"), x='manufacturer', y='price', hue='condition')\n",
        "plt.xticks(rotation=45)\n",
        "plt.title('Brands and conditon of used cars type and price impact')"
      ],
      "metadata": {
        "colab": {
          "base_uri": "https://localhost:8080/",
          "height": 616
        },
        "id": "PV-EHa1Rge1Y",
        "outputId": "220daaf1-7f4d-43bc-f2f9-1825a688167b"
      },
      "execution_count": 569,
      "outputs": [
        {
          "output_type": "execute_result",
          "data": {
            "text/plain": [
              "Text(0.5, 1.0, 'Brands and conditon of used cars type and price impact')"
            ]
          },
          "metadata": {},
          "execution_count": 569
        },
        {
          "output_type": "display_data",
          "data": {
            "text/plain": [
              "<Figure size 2880x720 with 1 Axes>"
            ],
            "image/png": "[encoded data removed]"
          },
          "metadata": {}
        }
      ]
    },
    {
      "cell_type": "code",
      "source": [
        "plot_data['condition'].unique()"
      ],
      "metadata": {
        "colab": {
          "base_uri": "https://localhost:8080/"
        },
        "id": "myE7jVVFfYQh",
        "outputId": "2a5f3034-80f2-4b01-9c2b-3b4871c450d5"
      },
      "execution_count": 566,
      "outputs": [
        {
          "output_type": "execute_result",
          "data": {
            "text/plain": [
              "array(['excellent', 'good', 'like new', 'new', 'fair', 'salvage'],\n",
              "      dtype=object)"
            ]
          },
          "metadata": {},
          "execution_count": 566
        }
      ]
    },
    {
      "cell_type": "code",
      "source": [
        "numeric_col = ['price', 'year', 'cylinders', 'transmission', 'drive', 'odometer']\n",
        "categorical_col = ['region', 'manufacturer', 'model', 'condition', 'fuel', 'title_status', 'size', 'type', 'paint_color', 'state']"
      ],
      "metadata": {
        "id": "Rb6HdTcrSVSm"
      },
      "execution_count": 279,
      "outputs": []
    },
    {
      "cell_type": "code",
      "source": [
        "from sklearn.experimental import enable_iterative_imputer\n",
        "from sklearn.impute import IterativeImputer\n",
        "from sklearn.linear_model import BayesianRidge\n",
        "from sklearn import preprocessing\n",
        "from tqdm import tqdm"
      ],
      "metadata": {
        "id": "zUS-juqDOhuo"
      },
      "execution_count": 280,
      "outputs": []
    },
    {
      "cell_type": "code",
      "source": [
        "#Converting Categorical Columns to Numerical Columns using Target Encoder\n",
        "encoder_df=vehicles_no_outlier.copy()\n",
        "\n",
        "encoder=preprocessing.LabelEncoder()\n",
        "\n",
        "def target_encoder(data):\n",
        "    noNaN = np.array(data.dropna())\n",
        "    impute_ordinal = encoder.fit_transform(noNaN.reshape(-1,1))\n",
        "    data.loc[data.notnull()] = np.squeeze(impute_ordinal)\n",
        "    return data\n",
        "\n",
        "for i in tqdm(range(len(categorical_col))):\n",
        "    target_encoder(encoder_df[categorical_col[i]])"
      ],
      "metadata": {
        "colab": {
          "base_uri": "https://localhost:8080/"
        },
        "id": "LK-dv7NdX-MZ",
        "outputId": "d924104e-2cdb-426a-dc17-31f054dd5e61"
      },
      "execution_count": 299,
      "outputs": [
        {
          "output_type": "stream",
          "name": "stderr",
          "text": [
            "100%|██████████| 10/10 [00:01<00:00,  6.49it/s]\n"
          ]
        }
      ]
    },
    {
      "cell_type": "code",
      "source": [
        "encoder_df.info()"
      ],
      "metadata": {
        "colab": {
          "base_uri": "https://localhost:8080/"
        },
        "id": "H_rvlQkXhP2T",
        "outputId": "46349fbc-b9f2-46c1-a6fd-6118f61045ba"
      },
      "execution_count": 300,
      "outputs": [
        {
          "output_type": "stream",
          "name": "stdout",
          "text": [
            "<class 'pandas.core.frame.DataFrame'>\n",
            "Int64Index: 394325 entries, 27 to 426879\n",
            "Data columns (total 16 columns):\n",
            " #   Column        Non-Null Count   Dtype  \n",
            "---  ------        --------------   -----  \n",
            " 0   region        394325 non-null  object \n",
            " 1   price         394325 non-null  int64  \n",
            " 2   year          394325 non-null  float64\n",
            " 3   manufacturer  381980 non-null  object \n",
            " 4   model         394325 non-null  object \n",
            " 5   condition     394325 non-null  object \n",
            " 6   cylinders     394325 non-null  int64  \n",
            " 7   fuel          394325 non-null  object \n",
            " 8   odometer      394325 non-null  float64\n",
            " 9   title_status  394325 non-null  object \n",
            " 10  transmission  394325 non-null  int64  \n",
            " 11  drive         394325 non-null  int64  \n",
            " 12  size          110172 non-null  object \n",
            " 13  type          394325 non-null  object \n",
            " 14  paint_color   394325 non-null  object \n",
            " 15  state         394325 non-null  object \n",
            "dtypes: float64(2), int64(4), object(10)\n",
            "memory usage: 51.1+ MB\n"
          ]
        }
      ]
    },
    {
      "cell_type": "code",
      "source": [
        "#using IterativeImputer-BayesianRidge to fill missing data in Manufacturer and Size\n",
        "encoder_df_fill = encoder_df[categorical_col]\n",
        "encoder = preprocessing.LabelEncoder()\n",
        "\n",
        "for i in categorical_col:\n",
        "  target_encoder(encoder_df_fill[i])\n",
        "  imputer = IterativeImputer(BayesianRidge())\n",
        "  imputed_data = imputer.fit_transform(encoder_df_fill[i].values.reshape(-1,1))\n",
        "  imputed_data = imputed_data.astype('int64')\n",
        "  imputed_data = pd.DataFrame(imputed_data)\n",
        "  imputed_data = encoder.inverse_transform(imputed_data.values.reshape(-1, 1))\n",
        "  encoder_df_fill[i] = imputed_data\n",
        "encoder_df[categorical_col] = encoder_df_fill    "
      ],
      "metadata": {
        "id": "vwi75ZitcEwp"
      },
      "execution_count": 301,
      "outputs": []
    },
    {
      "cell_type": "code",
      "source": [
        "encoder_df.isnull().sum()"
      ],
      "metadata": {
        "colab": {
          "base_uri": "https://localhost:8080/"
        },
        "id": "rZKPNxDEcE7V",
        "outputId": "95449889-5760-4ed5-93e8-58e3c3d34eac"
      },
      "execution_count": 302,
      "outputs": [
        {
          "output_type": "execute_result",
          "data": {
            "text/plain": [
              "region          0\n",
              "price           0\n",
              "year            0\n",
              "manufacturer    0\n",
              "model           0\n",
              "condition       0\n",
              "cylinders       0\n",
              "fuel            0\n",
              "odometer        0\n",
              "title_status    0\n",
              "transmission    0\n",
              "drive           0\n",
              "size            0\n",
              "type            0\n",
              "paint_color     0\n",
              "state           0\n",
              "dtype: int64"
            ]
          },
          "metadata": {},
          "execution_count": 302
        }
      ]
    },
    {
      "cell_type": "code",
      "source": [
        "encoder_df.convert_dtypes().dtypes "
      ],
      "metadata": {
        "colab": {
          "base_uri": "https://localhost:8080/"
        },
        "id": "SytLZ8DDT8E2",
        "outputId": "85839673-3630-4535-a85e-07d01c67d2bf"
      },
      "execution_count": 303,
      "outputs": [
        {
          "output_type": "execute_result",
          "data": {
            "text/plain": [
              "region          Int64\n",
              "price           Int64\n",
              "year            Int64\n",
              "manufacturer    Int64\n",
              "model           Int64\n",
              "condition       Int64\n",
              "cylinders       Int64\n",
              "fuel            Int64\n",
              "odometer        Int64\n",
              "title_status    Int64\n",
              "transmission    Int64\n",
              "drive           Int64\n",
              "size            Int64\n",
              "type            Int64\n",
              "paint_color     Int64\n",
              "state           Int64\n",
              "dtype: object"
            ]
          },
          "metadata": {},
          "execution_count": 303
        }
      ]
    },
    {
      "cell_type": "code",
      "source": [
        "encoder_df.head()"
      ],
      "metadata": {
        "colab": {
          "base_uri": "https://localhost:8080/",
          "height": 206
        },
        "id": "krhzgvIcUfNF",
        "outputId": "4737a2eb-3b6a-49e6-c9c3-fdfd2e2f259c"
      },
      "execution_count": 304,
      "outputs": [
        {
          "output_type": "execute_result",
          "data": {
            "text/plain": [
              "   region  price    year manufacturer  model condition  cylinders fuel  \\\n",
              "27     16  33590  2014.0           13  19995         2          8    2   \n",
              "28     16  22590  2010.0            7  20326         2          8    2   \n",
              "29     16  39590  2020.0            7  20373         2          8    2   \n",
              "30     16  30990  2017.0           38  23100         2          8    2   \n",
              "31     16  15000  2013.0           12  11438         0          6    2   \n",
              "\n",
              "    odometer title_status  transmission  drive size type paint_color state  \n",
              "27   57923.0            0             0      0    1    8          10     1  \n",
              "28   71229.0            0             0      0    1    8           1     1  \n",
              "29   19160.0            0             0      0    1    8           8     1  \n",
              "30   41124.0            0             0      0    1    8           8     1  \n",
              "31  128000.0            0             1      2    1   10           0     1  "
            ],
            "text/html": [
              "\n",
              "  <div id=\"df-f2ce4754-a715-4bc8-ba17-b378df3a4e0c\">\n",
              "    <div class=\"colab-df-container\">\n",
              "      <div>\n",
              "<style scoped>\n",
              "    .dataframe tbody tr th:only-of-type {\n",
              "        vertical-align: middle;\n",
              "    }\n",
              "\n",
              "    .dataframe tbody tr th {\n",
              "        vertical-align: top;\n",
              "    }\n",
              "\n",
              "    .dataframe thead th {\n",
              "        text-align: right;\n",
              "    }\n",
              "</style>\n",
              "<table border=\"1\" class=\"dataframe\">\n",
              "  <thead>\n",
              "    <tr style=\"text-align: right;\">\n",
              "      <th></th>\n",
              "      <th>region</th>\n",
              "      <th>price</th>\n",
              "      <th>year</th>\n",
              "      <th>manufacturer</th>\n",
              "      <th>model</th>\n",
              "      <th>condition</th>\n",
              "      <th>cylinders</th>\n",
              "      <th>fuel</th>\n",
              "      <th>odometer</th>\n",
              "      <th>title_status</th>\n",
              "      <th>transmission</th>\n",
              "      <th>drive</th>\n",
              "      <th>size</th>\n",
              "      <th>type</th>\n",
              "      <th>paint_color</th>\n",
              "      <th>state</th>\n",
              "    </tr>\n",
              "  </thead>\n",
              "  <tbody>\n",
              "    <tr>\n",
              "      <th>27</th>\n",
              "      <td>16</td>\n",
              "      <td>33590</td>\n",
              "      <td>2014.0</td>\n",
              "      <td>13</td>\n",
              "      <td>19995</td>\n",
              "      <td>2</td>\n",
              "      <td>8</td>\n",
              "      <td>2</td>\n",
              "      <td>57923.0</td>\n",
              "      <td>0</td>\n",
              "      <td>0</td>\n",
              "      <td>0</td>\n",
              "      <td>1</td>\n",
              "      <td>8</td>\n",
              "      <td>10</td>\n",
              "      <td>1</td>\n",
              "    </tr>\n",
              "    <tr>\n",
              "      <th>28</th>\n",
              "      <td>16</td>\n",
              "      <td>22590</td>\n",
              "      <td>2010.0</td>\n",
              "      <td>7</td>\n",
              "      <td>20326</td>\n",
              "      <td>2</td>\n",
              "      <td>8</td>\n",
              "      <td>2</td>\n",
              "      <td>71229.0</td>\n",
              "      <td>0</td>\n",
              "      <td>0</td>\n",
              "      <td>0</td>\n",
              "      <td>1</td>\n",
              "      <td>8</td>\n",
              "      <td>1</td>\n",
              "      <td>1</td>\n",
              "    </tr>\n",
              "    <tr>\n",
              "      <th>29</th>\n",
              "      <td>16</td>\n",
              "      <td>39590</td>\n",
              "      <td>2020.0</td>\n",
              "      <td>7</td>\n",
              "      <td>20373</td>\n",
              "      <td>2</td>\n",
              "      <td>8</td>\n",
              "      <td>2</td>\n",
              "      <td>19160.0</td>\n",
              "      <td>0</td>\n",
              "      <td>0</td>\n",
              "      <td>0</td>\n",
              "      <td>1</td>\n",
              "      <td>8</td>\n",
              "      <td>8</td>\n",
              "      <td>1</td>\n",
              "    </tr>\n",
              "    <tr>\n",
              "      <th>30</th>\n",
              "      <td>16</td>\n",
              "      <td>30990</td>\n",
              "      <td>2017.0</td>\n",
              "      <td>38</td>\n",
              "      <td>23100</td>\n",
              "      <td>2</td>\n",
              "      <td>8</td>\n",
              "      <td>2</td>\n",
              "      <td>41124.0</td>\n",
              "      <td>0</td>\n",
              "      <td>0</td>\n",
              "      <td>0</td>\n",
              "      <td>1</td>\n",
              "      <td>8</td>\n",
              "      <td>8</td>\n",
              "      <td>1</td>\n",
              "    </tr>\n",
              "    <tr>\n",
              "      <th>31</th>\n",
              "      <td>16</td>\n",
              "      <td>15000</td>\n",
              "      <td>2013.0</td>\n",
              "      <td>12</td>\n",
              "      <td>11438</td>\n",
              "      <td>0</td>\n",
              "      <td>6</td>\n",
              "      <td>2</td>\n",
              "      <td>128000.0</td>\n",
              "      <td>0</td>\n",
              "      <td>1</td>\n",
              "      <td>2</td>\n",
              "      <td>1</td>\n",
              "      <td>10</td>\n",
              "      <td>0</td>\n",
              "      <td>1</td>\n",
              "    </tr>\n",
              "  </tbody>\n",
              "</table>\n",
              "</div>\n",
              "      <button class=\"colab-df-convert\" onclick=\"convertToInteractive('df-f2ce4754-a715-4bc8-ba17-b378df3a4e0c')\"\n",
              "              title=\"Convert this dataframe to an interactive table.\"\n",
              "              style=\"display:none;\">\n",
              "        \n",
              "  <svg xmlns=\"http://www.w3.org/2000/svg\" height=\"24px\"viewBox=\"0 0 24 24\"\n",
              "       width=\"24px\">\n",
              "    <path d=\"M0 0h24v24H0V0z\" fill=\"none\"/>\n",
              "    <path d=\"M18.56 5.44l.94 2.06.94-2.06 2.06-.94-2.06-.94-.94-2.06-.94 2.06-2.06.94zm-11 1L8.5 8.5l.94-2.06 2.06-.94-2.06-.94L8.5 2.5l-.94 2.06-2.06.94zm10 10l.94 2.06.94-2.06 2.06-.94-2.06-.94-.94-2.06-.94 2.06-2.06.94z\"/><path d=\"M17.41 7.96l-1.37-1.37c-.4-.4-.92-.59-1.43-.59-.52 0-1.04.2-1.43.59L10.3 9.45l-7.72 7.72c-.78.78-.78 2.05 0 2.83L4 21.41c.39.39.9.59 1.41.59.51 0 1.02-.2 1.41-.59l7.78-7.78 2.81-2.81c.8-.78.8-2.07 0-2.86zM5.41 20L4 18.59l7.72-7.72 1.47 1.35L5.41 20z\"/>\n",
              "  </svg>\n",
              "      </button>\n",
              "      \n",
              "  <style>\n",
              "    .colab-df-container {\n",
              "      display:flex;\n",
              "      flex-wrap:wrap;\n",
              "      gap: 12px;\n",
              "    }\n",
              "\n",
              "    .colab-df-convert {\n",
              "      background-color: #E8F0FE;\n",
              "      border: none;\n",
              "      border-radius: 50%;\n",
              "      cursor: pointer;\n",
              "      display: none;\n",
              "      fill: #1967D2;\n",
              "      height: 32px;\n",
              "      padding: 0 0 0 0;\n",
              "      width: 32px;\n",
              "    }\n",
              "\n",
              "    .colab-df-convert:hover {\n",
              "      background-color: #E2EBFA;\n",
              "      box-shadow: 0px 1px 2px rgba(60, 64, 67, 0.3), 0px 1px 3px 1px rgba(60, 64, 67, 0.15);\n",
              "      fill: #174EA6;\n",
              "    }\n",
              "\n",
              "    [theme=dark] .colab-df-convert {\n",
              "      background-color: #3B4455;\n",
              "      fill: #D2E3FC;\n",
              "    }\n",
              "\n",
              "    [theme=dark] .colab-df-convert:hover {\n",
              "      background-color: #434B5C;\n",
              "      box-shadow: 0px 1px 3px 1px rgba(0, 0, 0, 0.15);\n",
              "      filter: drop-shadow(0px 1px 2px rgba(0, 0, 0, 0.3));\n",
              "      fill: #FFFFFF;\n",
              "    }\n",
              "  </style>\n",
              "\n",
              "      <script>\n",
              "        const buttonEl =\n",
              "          document.querySelector('#df-f2ce4754-a715-4bc8-ba17-b378df3a4e0c button.colab-df-convert');\n",
              "        buttonEl.style.display =\n",
              "          google.colab.kernel.accessAllowed ? 'block' : 'none';\n",
              "\n",
              "        async function convertToInteractive(key) {\n",
              "          const element = document.querySelector('#df-f2ce4754-a715-4bc8-ba17-b378df3a4e0c');\n",
              "          const dataTable =\n",
              "            await google.colab.kernel.invokeFunction('convertToInteractive',\n",
              "                                                     [key], {});\n",
              "          if (!dataTable) return;\n",
              "\n",
              "          const docLinkHtml = 'Like what you see? Visit the ' +\n",
              "            '<a target=\"_blank\" href=https://colab.research.google.com/notebooks/data_table.ipynb>data table notebook</a>'\n",
              "            + ' to learn more about interactive tables.';\n",
              "          element.innerHTML = '';\n",
              "          dataTable['output_type'] = 'display_data';\n",
              "          await google.colab.output.renderOutput(dataTable, element);\n",
              "          const docLink = document.createElement('div');\n",
              "          docLink.innerHTML = docLinkHtml;\n",
              "          element.appendChild(docLink);\n",
              "        }\n",
              "      </script>\n",
              "    </div>\n",
              "  </div>\n",
              "  "
            ]
          },
          "metadata": {},
          "execution_count": 304
        }
      ]
    },
    {
      "cell_type": "code",
      "source": [
        "encoder_df.shape"
      ],
      "metadata": {
        "colab": {
          "base_uri": "https://localhost:8080/"
        },
        "id": "Dtgv30B7Ue9q",
        "outputId": "5cb64870-c9a6-4ed3-9166-65ab80e2e189"
      },
      "execution_count": 305,
      "outputs": [
        {
          "output_type": "execute_result",
          "data": {
            "text/plain": [
              "(394325, 16)"
            ]
          },
          "metadata": {},
          "execution_count": 305
        }
      ]
    },
    {
      "cell_type": "code",
      "source": [
        ""
      ],
      "metadata": {
        "id": "EohBMUNjlwg8"
      },
      "execution_count": null,
      "outputs": []
    },
    {
      "cell_type": "code",
      "source": [
        ""
      ],
      "metadata": {
        "id": "CaoykvYwT8H_"
      },
      "execution_count": null,
      "outputs": []
    },
    {
      "cell_type": "code",
      "source": [
        ""
      ],
      "metadata": {
        "id": "VF7tnMWET8Kv"
      },
      "execution_count": null,
      "outputs": []
    },
    {
      "cell_type": "code",
      "source": [
        ""
      ],
      "metadata": {
        "id": "3XTSC8KzRyim"
      },
      "execution_count": null,
      "outputs": []
    },
    {
      "cell_type": "markdown",
      "metadata": {
        "id": "zqw0Tn6B7Pvb"
      },
      "source": [
        "### Modeling\n",
        "\n",
        "With your (almost?) final dataset in hand, it is now time to build some models.  Here, you should build a number of different regression models with the price as the target.  In building your models, you should explore different parameters and be sure to cross-validate your findings."
      ]
    },
    {
      "cell_type": "code",
      "source": [
        "# Before we model, we need to scale price, year, model and odometer. Since we are predicting price of the used car, we will keep it lograthmic"
      ],
      "metadata": {
        "id": "AxScQ-v6vnc_"
      },
      "execution_count": null,
      "outputs": []
    },
    {
      "cell_type": "code",
      "source": [
        "encoder_df['price'] = np.log(encoder_df['price'])"
      ],
      "metadata": {
        "id": "YkZMjtzvvnm3"
      },
      "execution_count": 376,
      "outputs": []
    },
    {
      "cell_type": "code",
      "source": [
        "encoder_df['year'] = StandardScaler().fit_transform(np.array(encoder_df['year']).reshape(-1,1))\n",
        "encoder_df['model'] = StandardScaler().fit_transform(np.array(encoder_df['model']).reshape(-1,1))\n",
        "encoder_df['odometer'] = StandardScaler().fit_transform(np.array(encoder_df['odometer']).reshape(-1,1))"
      ],
      "metadata": {
        "id": "ld6r0LMHv6Bu"
      },
      "execution_count": 377,
      "outputs": []
    },
    {
      "cell_type": "code",
      "source": [
        "encoder_df.head()"
      ],
      "metadata": {
        "colab": {
          "base_uri": "https://localhost:8080/",
          "height": 206
        },
        "id": "BGol3PalwpkB",
        "outputId": "c7e11fa6-1d8a-479c-c8cc-0f0ea0463d15"
      },
      "execution_count": 378,
      "outputs": [
        {
          "output_type": "execute_result",
          "data": {
            "text/plain": [
              "   region     price      year manufacturer     model condition  cylinders  \\\n",
              "27     16  2.343917  0.257364           13  0.977389         2          8   \n",
              "28     16  2.305108 -0.480923            7  1.026896         2          8   \n",
              "29     16  2.359564  1.364794            7  1.033926         2          8   \n",
              "30     16  2.336157  0.811079           38  1.441799         2          8   \n",
              "31     16  2.263408  0.072792           12 -0.302468         0          6   \n",
              "\n",
              "   fuel  odometer title_status  transmission  drive size type paint_color  \\\n",
              "27    2 -0.552904            0             0      0    1    8          10   \n",
              "28    2 -0.331892            0             0      0    1    8           1   \n",
              "29    2 -1.196755            0             0      0    1    8           8   \n",
              "30    2 -0.831934            0             0      0    1    8           8   \n",
              "31    2  0.611071            0             1      2    1   10           0   \n",
              "\n",
              "   state  \n",
              "27     1  \n",
              "28     1  \n",
              "29     1  \n",
              "30     1  \n",
              "31     1  "
            ],
            "text/html": [
              "\n",
              "  <div id=\"df-d137faaf-acfb-4109-a34b-1f8bc1b29091\">\n",
              "    <div class=\"colab-df-container\">\n",
              "      <div>\n",
              "<style scoped>\n",
              "    .dataframe tbody tr th:only-of-type {\n",
              "        vertical-align: middle;\n",
              "    }\n",
              "\n",
              "    .dataframe tbody tr th {\n",
              "        vertical-align: top;\n",
              "    }\n",
              "\n",
              "    .dataframe thead th {\n",
              "        text-align: right;\n",
              "    }\n",
              "</style>\n",
              "<table border=\"1\" class=\"dataframe\">\n",
              "  <thead>\n",
              "    <tr style=\"text-align: right;\">\n",
              "      <th></th>\n",
              "      <th>region</th>\n",
              "      <th>price</th>\n",
              "      <th>year</th>\n",
              "      <th>manufacturer</th>\n",
              "      <th>model</th>\n",
              "      <th>condition</th>\n",
              "      <th>cylinders</th>\n",
              "      <th>fuel</th>\n",
              "      <th>odometer</th>\n",
              "      <th>title_status</th>\n",
              "      <th>transmission</th>\n",
              "      <th>drive</th>\n",
              "      <th>size</th>\n",
              "      <th>type</th>\n",
              "      <th>paint_color</th>\n",
              "      <th>state</th>\n",
              "    </tr>\n",
              "  </thead>\n",
              "  <tbody>\n",
              "    <tr>\n",
              "      <th>27</th>\n",
              "      <td>16</td>\n",
              "      <td>2.343917</td>\n",
              "      <td>0.257364</td>\n",
              "      <td>13</td>\n",
              "      <td>0.977389</td>\n",
              "      <td>2</td>\n",
              "      <td>8</td>\n",
              "      <td>2</td>\n",
              "      <td>-0.552904</td>\n",
              "      <td>0</td>\n",
              "      <td>0</td>\n",
              "      <td>0</td>\n",
              "      <td>1</td>\n",
              "      <td>8</td>\n",
              "      <td>10</td>\n",
              "      <td>1</td>\n",
              "    </tr>\n",
              "    <tr>\n",
              "      <th>28</th>\n",
              "      <td>16</td>\n",
              "      <td>2.305108</td>\n",
              "      <td>-0.480923</td>\n",
              "      <td>7</td>\n",
              "      <td>1.026896</td>\n",
              "      <td>2</td>\n",
              "      <td>8</td>\n",
              "      <td>2</td>\n",
              "      <td>-0.331892</td>\n",
              "      <td>0</td>\n",
              "      <td>0</td>\n",
              "      <td>0</td>\n",
              "      <td>1</td>\n",
              "      <td>8</td>\n",
              "      <td>1</td>\n",
              "      <td>1</td>\n",
              "    </tr>\n",
              "    <tr>\n",
              "      <th>29</th>\n",
              "      <td>16</td>\n",
              "      <td>2.359564</td>\n",
              "      <td>1.364794</td>\n",
              "      <td>7</td>\n",
              "      <td>1.033926</td>\n",
              "      <td>2</td>\n",
              "      <td>8</td>\n",
              "      <td>2</td>\n",
              "      <td>-1.196755</td>\n",
              "      <td>0</td>\n",
              "      <td>0</td>\n",
              "      <td>0</td>\n",
              "      <td>1</td>\n",
              "      <td>8</td>\n",
              "      <td>8</td>\n",
              "      <td>1</td>\n",
              "    </tr>\n",
              "    <tr>\n",
              "      <th>30</th>\n",
              "      <td>16</td>\n",
              "      <td>2.336157</td>\n",
              "      <td>0.811079</td>\n",
              "      <td>38</td>\n",
              "      <td>1.441799</td>\n",
              "      <td>2</td>\n",
              "      <td>8</td>\n",
              "      <td>2</td>\n",
              "      <td>-0.831934</td>\n",
              "      <td>0</td>\n",
              "      <td>0</td>\n",
              "      <td>0</td>\n",
              "      <td>1</td>\n",
              "      <td>8</td>\n",
              "      <td>8</td>\n",
              "      <td>1</td>\n",
              "    </tr>\n",
              "    <tr>\n",
              "      <th>31</th>\n",
              "      <td>16</td>\n",
              "      <td>2.263408</td>\n",
              "      <td>0.072792</td>\n",
              "      <td>12</td>\n",
              "      <td>-0.302468</td>\n",
              "      <td>0</td>\n",
              "      <td>6</td>\n",
              "      <td>2</td>\n",
              "      <td>0.611071</td>\n",
              "      <td>0</td>\n",
              "      <td>1</td>\n",
              "      <td>2</td>\n",
              "      <td>1</td>\n",
              "      <td>10</td>\n",
              "      <td>0</td>\n",
              "      <td>1</td>\n",
              "    </tr>\n",
              "  </tbody>\n",
              "</table>\n",
              "</div>\n",
              "      <button class=\"colab-df-convert\" onclick=\"convertToInteractive('df-d137faaf-acfb-4109-a34b-1f8bc1b29091')\"\n",
              "              title=\"Convert this dataframe to an interactive table.\"\n",
              "              style=\"display:none;\">\n",
              "        \n",
              "  <svg xmlns=\"http://www.w3.org/2000/svg\" height=\"24px\"viewBox=\"0 0 24 24\"\n",
              "       width=\"24px\">\n",
              "    <path d=\"M0 0h24v24H0V0z\" fill=\"none\"/>\n",
              "    <path d=\"M18.56 5.44l.94 2.06.94-2.06 2.06-.94-2.06-.94-.94-2.06-.94 2.06-2.06.94zm-11 1L8.5 8.5l.94-2.06 2.06-.94-2.06-.94L8.5 2.5l-.94 2.06-2.06.94zm10 10l.94 2.06.94-2.06 2.06-.94-2.06-.94-.94-2.06-.94 2.06-2.06.94z\"/><path d=\"M17.41 7.96l-1.37-1.37c-.4-.4-.92-.59-1.43-.59-.52 0-1.04.2-1.43.59L10.3 9.45l-7.72 7.72c-.78.78-.78 2.05 0 2.83L4 21.41c.39.39.9.59 1.41.59.51 0 1.02-.2 1.41-.59l7.78-7.78 2.81-2.81c.8-.78.8-2.07 0-2.86zM5.41 20L4 18.59l7.72-7.72 1.47 1.35L5.41 20z\"/>\n",
              "  </svg>\n",
              "      </button>\n",
              "      \n",
              "  <style>\n",
              "    .colab-df-container {\n",
              "      display:flex;\n",
              "      flex-wrap:wrap;\n",
              "      gap: 12px;\n",
              "    }\n",
              "\n",
              "    .colab-df-convert {\n",
              "      background-color: #E8F0FE;\n",
              "      border: none;\n",
              "      border-radius: 50%;\n",
              "      cursor: pointer;\n",
              "      display: none;\n",
              "      fill: #1967D2;\n",
              "      height: 32px;\n",
              "      padding: 0 0 0 0;\n",
              "      width: 32px;\n",
              "    }\n",
              "\n",
              "    .colab-df-convert:hover {\n",
              "      background-color: #E2EBFA;\n",
              "      box-shadow: 0px 1px 2px rgba(60, 64, 67, 0.3), 0px 1px 3px 1px rgba(60, 64, 67, 0.15);\n",
              "      fill: #174EA6;\n",
              "    }\n",
              "\n",
              "    [theme=dark] .colab-df-convert {\n",
              "      background-color: #3B4455;\n",
              "      fill: #D2E3FC;\n",
              "    }\n",
              "\n",
              "    [theme=dark] .colab-df-convert:hover {\n",
              "      background-color: #434B5C;\n",
              "      box-shadow: 0px 1px 3px 1px rgba(0, 0, 0, 0.15);\n",
              "      filter: drop-shadow(0px 1px 2px rgba(0, 0, 0, 0.3));\n",
              "      fill: #FFFFFF;\n",
              "    }\n",
              "  </style>\n",
              "\n",
              "      <script>\n",
              "        const buttonEl =\n",
              "          document.querySelector('#df-d137faaf-acfb-4109-a34b-1f8bc1b29091 button.colab-df-convert');\n",
              "        buttonEl.style.display =\n",
              "          google.colab.kernel.accessAllowed ? 'block' : 'none';\n",
              "\n",
              "        async function convertToInteractive(key) {\n",
              "          const element = document.querySelector('#df-d137faaf-acfb-4109-a34b-1f8bc1b29091');\n",
              "          const dataTable =\n",
              "            await google.colab.kernel.invokeFunction('convertToInteractive',\n",
              "                                                     [key], {});\n",
              "          if (!dataTable) return;\n",
              "\n",
              "          const docLinkHtml = 'Like what you see? Visit the ' +\n",
              "            '<a target=\"_blank\" href=https://colab.research.google.com/notebooks/data_table.ipynb>data table notebook</a>'\n",
              "            + ' to learn more about interactive tables.';\n",
              "          element.innerHTML = '';\n",
              "          dataTable['output_type'] = 'display_data';\n",
              "          await google.colab.output.renderOutput(dataTable, element);\n",
              "          const docLink = document.createElement('div');\n",
              "          docLink.innerHTML = docLinkHtml;\n",
              "          element.appendChild(docLink);\n",
              "        }\n",
              "      </script>\n",
              "    </div>\n",
              "  </div>\n",
              "  "
            ]
          },
          "metadata": {},
          "execution_count": 378
        }
      ]
    },
    {
      "cell_type": "code",
      "source": [
        "encoder_df.describe()"
      ],
      "metadata": {
        "colab": {
          "base_uri": "https://localhost:8080/",
          "height": 300
        },
        "id": "MUZijMii0mxH",
        "outputId": "e8e03577-8729-4bc7-d250-74fc8787452d"
      },
      "execution_count": 379,
      "outputs": [
        {
          "output_type": "execute_result",
          "data": {
            "text/plain": [
              "              price          year         model      cylinders      odometer  \\\n",
              "count  3.640890e+05  3.943250e+05  3.943250e+05  394325.000000  3.943250e+05   \n",
              "mean           -inf -2.033195e-15 -4.640314e-16       3.417298 -2.067806e-16   \n",
              "std             NaN  1.000001e+00  1.000001e+00       3.150628  1.000001e+00   \n",
              "min            -inf -3.249497e+00 -2.013232e+00       0.000000 -1.515002e+00   \n",
              "25%    2.185560e+00 -6.654942e-01 -7.604463e-01       0.000000 -8.641910e-01   \n",
              "50%    2.263408e+00  2.573640e-01  5.194482e-03       4.000000 -6.993665e-02   \n",
              "75%    2.322704e+00  8.110789e-01  8.981180e-01       6.000000  7.014126e-01   \n",
              "max    2.393958e+00  1.733937e+00  1.677519e+00      12.000000  3.098194e+00   \n",
              "\n",
              "        transmission          drive  \n",
              "count  394325.000000  394325.000000  \n",
              "mean        0.884626       0.821234  \n",
              "std         0.439536       0.631068  \n",
              "min         0.000000       0.000000  \n",
              "25%         1.000000       0.000000  \n",
              "50%         1.000000       1.000000  \n",
              "75%         1.000000       1.000000  \n",
              "max         2.000000       2.000000  "
            ],
            "text/html": [
              "\n",
              "  <div id=\"df-e96b2600-9dc6-4eed-a43f-a5eb61688827\">\n",
              "    <div class=\"colab-df-container\">\n",
              "      <div>\n",
              "<style scoped>\n",
              "    .dataframe tbody tr th:only-of-type {\n",
              "        vertical-align: middle;\n",
              "    }\n",
              "\n",
              "    .dataframe tbody tr th {\n",
              "        vertical-align: top;\n",
              "    }\n",
              "\n",
              "    .dataframe thead th {\n",
              "        text-align: right;\n",
              "    }\n",
              "</style>\n",
              "<table border=\"1\" class=\"dataframe\">\n",
              "  <thead>\n",
              "    <tr style=\"text-align: right;\">\n",
              "      <th></th>\n",
              "      <th>price</th>\n",
              "      <th>year</th>\n",
              "      <th>model</th>\n",
              "      <th>cylinders</th>\n",
              "      <th>odometer</th>\n",
              "      <th>transmission</th>\n",
              "      <th>drive</th>\n",
              "    </tr>\n",
              "  </thead>\n",
              "  <tbody>\n",
              "    <tr>\n",
              "      <th>count</th>\n",
              "      <td>3.640890e+05</td>\n",
              "      <td>3.943250e+05</td>\n",
              "      <td>3.943250e+05</td>\n",
              "      <td>394325.000000</td>\n",
              "      <td>3.943250e+05</td>\n",
              "      <td>394325.000000</td>\n",
              "      <td>394325.000000</td>\n",
              "    </tr>\n",
              "    <tr>\n",
              "      <th>mean</th>\n",
              "      <td>-inf</td>\n",
              "      <td>-2.033195e-15</td>\n",
              "      <td>-4.640314e-16</td>\n",
              "      <td>3.417298</td>\n",
              "      <td>-2.067806e-16</td>\n",
              "      <td>0.884626</td>\n",
              "      <td>0.821234</td>\n",
              "    </tr>\n",
              "    <tr>\n",
              "      <th>std</th>\n",
              "      <td>NaN</td>\n",
              "      <td>1.000001e+00</td>\n",
              "      <td>1.000001e+00</td>\n",
              "      <td>3.150628</td>\n",
              "      <td>1.000001e+00</td>\n",
              "      <td>0.439536</td>\n",
              "      <td>0.631068</td>\n",
              "    </tr>\n",
              "    <tr>\n",
              "      <th>min</th>\n",
              "      <td>-inf</td>\n",
              "      <td>-3.249497e+00</td>\n",
              "      <td>-2.013232e+00</td>\n",
              "      <td>0.000000</td>\n",
              "      <td>-1.515002e+00</td>\n",
              "      <td>0.000000</td>\n",
              "      <td>0.000000</td>\n",
              "    </tr>\n",
              "    <tr>\n",
              "      <th>25%</th>\n",
              "      <td>2.185560e+00</td>\n",
              "      <td>-6.654942e-01</td>\n",
              "      <td>-7.604463e-01</td>\n",
              "      <td>0.000000</td>\n",
              "      <td>-8.641910e-01</td>\n",
              "      <td>1.000000</td>\n",
              "      <td>0.000000</td>\n",
              "    </tr>\n",
              "    <tr>\n",
              "      <th>50%</th>\n",
              "      <td>2.263408e+00</td>\n",
              "      <td>2.573640e-01</td>\n",
              "      <td>5.194482e-03</td>\n",
              "      <td>4.000000</td>\n",
              "      <td>-6.993665e-02</td>\n",
              "      <td>1.000000</td>\n",
              "      <td>1.000000</td>\n",
              "    </tr>\n",
              "    <tr>\n",
              "      <th>75%</th>\n",
              "      <td>2.322704e+00</td>\n",
              "      <td>8.110789e-01</td>\n",
              "      <td>8.981180e-01</td>\n",
              "      <td>6.000000</td>\n",
              "      <td>7.014126e-01</td>\n",
              "      <td>1.000000</td>\n",
              "      <td>1.000000</td>\n",
              "    </tr>\n",
              "    <tr>\n",
              "      <th>max</th>\n",
              "      <td>2.393958e+00</td>\n",
              "      <td>1.733937e+00</td>\n",
              "      <td>1.677519e+00</td>\n",
              "      <td>12.000000</td>\n",
              "      <td>3.098194e+00</td>\n",
              "      <td>2.000000</td>\n",
              "      <td>2.000000</td>\n",
              "    </tr>\n",
              "  </tbody>\n",
              "</table>\n",
              "</div>\n",
              "      <button class=\"colab-df-convert\" onclick=\"convertToInteractive('df-e96b2600-9dc6-4eed-a43f-a5eb61688827')\"\n",
              "              title=\"Convert this dataframe to an interactive table.\"\n",
              "              style=\"display:none;\">\n",
              "        \n",
              "  <svg xmlns=\"http://www.w3.org/2000/svg\" height=\"24px\"viewBox=\"0 0 24 24\"\n",
              "       width=\"24px\">\n",
              "    <path d=\"M0 0h24v24H0V0z\" fill=\"none\"/>\n",
              "    <path d=\"M18.56 5.44l.94 2.06.94-2.06 2.06-.94-2.06-.94-.94-2.06-.94 2.06-2.06.94zm-11 1L8.5 8.5l.94-2.06 2.06-.94-2.06-.94L8.5 2.5l-.94 2.06-2.06.94zm10 10l.94 2.06.94-2.06 2.06-.94-2.06-.94-.94-2.06-.94 2.06-2.06.94z\"/><path d=\"M17.41 7.96l-1.37-1.37c-.4-.4-.92-.59-1.43-.59-.52 0-1.04.2-1.43.59L10.3 9.45l-7.72 7.72c-.78.78-.78 2.05 0 2.83L4 21.41c.39.39.9.59 1.41.59.51 0 1.02-.2 1.41-.59l7.78-7.78 2.81-2.81c.8-.78.8-2.07 0-2.86zM5.41 20L4 18.59l7.72-7.72 1.47 1.35L5.41 20z\"/>\n",
              "  </svg>\n",
              "      </button>\n",
              "      \n",
              "  <style>\n",
              "    .colab-df-container {\n",
              "      display:flex;\n",
              "      flex-wrap:wrap;\n",
              "      gap: 12px;\n",
              "    }\n",
              "\n",
              "    .colab-df-convert {\n",
              "      background-color: #E8F0FE;\n",
              "      border: none;\n",
              "      border-radius: 50%;\n",
              "      cursor: pointer;\n",
              "      display: none;\n",
              "      fill: #1967D2;\n",
              "      height: 32px;\n",
              "      padding: 0 0 0 0;\n",
              "      width: 32px;\n",
              "    }\n",
              "\n",
              "    .colab-df-convert:hover {\n",
              "      background-color: #E2EBFA;\n",
              "      box-shadow: 0px 1px 2px rgba(60, 64, 67, 0.3), 0px 1px 3px 1px rgba(60, 64, 67, 0.15);\n",
              "      fill: #174EA6;\n",
              "    }\n",
              "\n",
              "    [theme=dark] .colab-df-convert {\n",
              "      background-color: #3B4455;\n",
              "      fill: #D2E3FC;\n",
              "    }\n",
              "\n",
              "    [theme=dark] .colab-df-convert:hover {\n",
              "      background-color: #434B5C;\n",
              "      box-shadow: 0px 1px 3px 1px rgba(0, 0, 0, 0.15);\n",
              "      filter: drop-shadow(0px 1px 2px rgba(0, 0, 0, 0.3));\n",
              "      fill: #FFFFFF;\n",
              "    }\n",
              "  </style>\n",
              "\n",
              "      <script>\n",
              "        const buttonEl =\n",
              "          document.querySelector('#df-e96b2600-9dc6-4eed-a43f-a5eb61688827 button.colab-df-convert');\n",
              "        buttonEl.style.display =\n",
              "          google.colab.kernel.accessAllowed ? 'block' : 'none';\n",
              "\n",
              "        async function convertToInteractive(key) {\n",
              "          const element = document.querySelector('#df-e96b2600-9dc6-4eed-a43f-a5eb61688827');\n",
              "          const dataTable =\n",
              "            await google.colab.kernel.invokeFunction('convertToInteractive',\n",
              "                                                     [key], {});\n",
              "          if (!dataTable) return;\n",
              "\n",
              "          const docLinkHtml = 'Like what you see? Visit the ' +\n",
              "            '<a target=\"_blank\" href=https://colab.research.google.com/notebooks/data_table.ipynb>data table notebook</a>'\n",
              "            + ' to learn more about interactive tables.';\n",
              "          element.innerHTML = '';\n",
              "          dataTable['output_type'] = 'display_data';\n",
              "          await google.colab.output.renderOutput(dataTable, element);\n",
              "          const docLink = document.createElement('div');\n",
              "          docLink.innerHTML = docLinkHtml;\n",
              "          element.appendChild(docLink);\n",
              "        }\n",
              "      </script>\n",
              "    </div>\n",
              "  </div>\n",
              "  "
            ]
          },
          "metadata": {},
          "execution_count": 379
        }
      ]
    },
    {
      "cell_type": "code",
      "source": [
        "#removing outliers from the target variable 'price' using IQR\n",
        "first_quartile = encoder_df['price'].quantile(.25)\n",
        "third_quartile = encoder_df['price'].quantile(.75)\n",
        "iqr = third_quartile - first_quartile \n",
        "lower = first_quartile - 1.5*iqr\n",
        "upper = third_quartile + 1.5*iqr\n",
        "encoder_df_no_outlier = encoder_df.loc[(encoder_df['price']>lower) & (encoder_df['price']<upper)]"
      ],
      "metadata": {
        "id": "X6WmiWjv091j"
      },
      "execution_count": 380,
      "outputs": []
    },
    {
      "cell_type": "code",
      "source": [
        "encoder_df_no_outlier.shape"
      ],
      "metadata": {
        "colab": {
          "base_uri": "https://localhost:8080/"
        },
        "id": "QkHttxO71x-t",
        "outputId": "2146185c-5cd1-4e48-9468-37ee19dbbbaf"
      },
      "execution_count": 381,
      "outputs": [
        {
          "output_type": "execute_result",
          "data": {
            "text/plain": [
              "(349631, 16)"
            ]
          },
          "metadata": {},
          "execution_count": 381
        }
      ]
    },
    {
      "cell_type": "code",
      "source": [
        "encoder_df_no_outlier.hist()"
      ],
      "metadata": {
        "colab": {
          "base_uri": "https://localhost:8080/",
          "height": 466
        },
        "id": "A8dO2HhmXj4E",
        "outputId": "3dcab7fb-2ad2-4554-997f-a71f9a0ffb17"
      },
      "execution_count": 488,
      "outputs": [
        {
          "output_type": "execute_result",
          "data": {
            "text/plain": [
              "array([[<matplotlib.axes._subplots.AxesSubplot object at 0x7f8a854cfb10>,\n",
              "        <matplotlib.axes._subplots.AxesSubplot object at 0x7f8a8574b310>,\n",
              "        <matplotlib.axes._subplots.AxesSubplot object at 0x7f8a8549aed0>],\n",
              "       [<matplotlib.axes._subplots.AxesSubplot object at 0x7f8a8545d410>,\n",
              "        <matplotlib.axes._subplots.AxesSubplot object at 0x7f8a85412910>,\n",
              "        <matplotlib.axes._subplots.AxesSubplot object at 0x7f8a853cee50>],\n",
              "       [<matplotlib.axes._subplots.AxesSubplot object at 0x7f8a85392410>,\n",
              "        <matplotlib.axes._subplots.AxesSubplot object at 0x7f8a85347850>,\n",
              "        <matplotlib.axes._subplots.AxesSubplot object at 0x7f8a85347890>]],\n",
              "      dtype=object)"
            ]
          },
          "metadata": {},
          "execution_count": 488
        },
        {
          "output_type": "display_data",
          "data": {
            "text/plain": [
              "<Figure size 432x288 with 9 Axes>"
            ],
            "image/png": "[encoded data removed]"
          },
          "metadata": {
            "needs_background": "light"
          }
        }
      ]
    },
    {
      "cell_type": "code",
      "execution_count": null,
      "metadata": {
        "id": "JdJLgvrg7Pvb"
      },
      "outputs": [],
      "source": [
        "#Since we are trying to predict the price of the used car, we will keep it as output variable"
      ]
    },
    {
      "cell_type": "code",
      "source": [
        "X = encoder_df_no_outlier.drop(columns='price', axis=1)\n",
        "y = encoder_df_no_outlier['price']\n",
        "print(type(X), type(y))"
      ],
      "metadata": {
        "colab": {
          "base_uri": "https://localhost:8080/"
        },
        "id": "8kWC4CyTnaAj",
        "outputId": "da10d83b-da18-4e29-f079-5fa30d2b58b7"
      },
      "execution_count": 434,
      "outputs": [
        {
          "output_type": "stream",
          "name": "stdout",
          "text": [
            "<class 'pandas.core.frame.DataFrame'> <class 'pandas.core.series.Series'>\n"
          ]
        }
      ]
    },
    {
      "cell_type": "code",
      "execution_count": 435,
      "metadata": {
        "id": "RqdcQvVs7Pvc",
        "outputId": "74a530e9-2c7b-4d6b-c968-a07f7277ccbd",
        "colab": {
          "base_uri": "https://localhost:8080/"
        }
      },
      "outputs": [
        {
          "output_type": "stream",
          "name": "stdout",
          "text": [
            "(244741, 15) (104890,)\n",
            "<class 'pandas.core.frame.DataFrame'> <class 'pandas.core.series.Series'>\n"
          ]
        }
      ],
      "source": [
        "X_train, X_test, y_train, y_test = train_test_split(X, y, test_size=0.3, random_state=123)\n",
        "print(X_train.shape, y_test.shape)\n",
        "print(type(X_train), type(y_train))"
      ]
    },
    {
      "cell_type": "code",
      "source": [
        "#Setting up a function to calculate MSE, MAE, RMSE, PI, R2 Scores\n",
        "from sklearn.metrics import r2_score\n",
        "def model_scores (y_test, y_pred):\n",
        "  scores = []\n",
        "  scores.append(mean_squared_error(y_test, y_pred))\n",
        "  scores.append(np.sqrt(scores[0]))\n",
        "  scores.append(round(r2_score(y_test, y_pred)*100,2))\n",
        "  return scores"
      ],
      "metadata": {
        "id": "YtlL-b2hqnhq"
      },
      "execution_count": 436,
      "outputs": []
    },
    {
      "cell_type": "code",
      "source": [
        "#Creating a Model Results Dataframe to store model score results\n",
        "#model_results = pd.DataFrame(index=['MSE', 'RMSE', 'R2']) \n",
        "model_results = []   "
      ],
      "metadata": {
        "id": "1QUUX5tStt3Z"
      },
      "execution_count": 437,
      "outputs": []
    },
    {
      "cell_type": "markdown",
      "metadata": {
        "id": "CLhmImo07Pvc"
      },
      "source": [
        "##### Model 1: Linear Regression"
      ]
    },
    {
      "cell_type": "code",
      "execution_count": 438,
      "metadata": {
        "id": "Y-BHmxnw7Pvd",
        "outputId": "afe38e05-545c-493c-aa11-d0341b4d9b79",
        "colab": {
          "base_uri": "https://localhost:8080/"
        }
      },
      "outputs": [
        {
          "output_type": "stream",
          "name": "stdout",
          "text": [
            "LinearReg MSE: 0.0031826729125461403\n",
            "LinearReg RMSE: 0.0564151833511701\n",
            "LinearReg R2 Score: 56.31\n"
          ]
        }
      ],
      "source": [
        "linreg = LinearRegression()\n",
        "linreg.fit(X_train, y_train)\n",
        "y_pred = linreg.predict(X_test)\n",
        "linreg_results = model_scores(y_test, y_pred)\n",
        "print(f'LinearReg MSE: {linreg_results[0]}')\n",
        "print(f'LinearReg RMSE: {linreg_results[1]}')\n",
        "print(f'LinearReg R2 Score: {linreg_results[2]}')\n",
        "\n",
        "model_results.append({'Model_name': 'Linear Regression', 'MSE': linreg_results[0], 'RMSE': linreg_results[1], 'R2 Score': linreg_results[2]})"
      ]
    },
    {
      "cell_type": "code",
      "source": [
        "linreg_coeffs = pd.Series(linreg.coef_, index=X_train.columns)\n",
        "linreg_coeffs.plot(kind='bar')\n",
        "plt.title('Linear Regression Coefficients')\n",
        "plt.xlabel('X_train Values')"
      ],
      "metadata": {
        "colab": {
          "base_uri": "https://localhost:8080/",
          "height": 372
        },
        "id": "xaknSyyc3HJ2",
        "outputId": "f03e9f33-77d7-4680-da6a-7d3749c237ba"
      },
      "execution_count": 439,
      "outputs": [
        {
          "output_type": "execute_result",
          "data": {
            "text/plain": [
              "Text(0.5, 0, 'X_train Values')"
            ]
          },
          "metadata": {},
          "execution_count": 439
        },
        {
          "output_type": "display_data",
          "data": {
            "text/plain": [
              "<Figure size 432x288 with 1 Axes>"
            ],
            "image/png": "[encoded data removed]"
          },
          "metadata": {
            "needs_background": "light"
          }
        }
      ]
    },
    {
      "cell_type": "markdown",
      "source": [
        "##### Model 2: Ridge Grid Regression"
      ],
      "metadata": {
        "id": "HS-geLZG29so"
      }
    },
    {
      "cell_type": "code",
      "source": [
        "param_dict = {'alpha': [0.001, 0.1, 1.0, 10.0, 100.0]}\n",
        "ridge_grid = GridSearchCV(Ridge(), param_grid=param_dict, scoring='neg_mean_squared_error', cv=5)\n",
        "ridge_grid.fit(X_train, y_train)\n",
        "y_pred1 = ridge_grid.predict(X_test)\n",
        "ridge_grid_results = model_scores(y_test, y_pred1)\n",
        "print(f'Ridge Grid MSE: {ridge_grid_results[0]}')\n",
        "print(f'Ridge Grid RMSE: {ridge_grid_results[1]}')\n",
        "print(f'Ridge Grid R2 Score: {ridge_grid_results[2]}')\n",
        "\n",
        "ridge_best_alpha = ridge_grid.best_params_\n",
        "print(f'Best alpha: {list(ridge_best_alpha.values())[0]}')\n",
        "\n",
        "model_results.append({'Model_name': 'Ridge Regression', 'MSE': ridge_grid_results[0], 'RMSE': ridge_grid_results[1], 'R2 Score': ridge_grid_results[2]})"
      ],
      "metadata": {
        "colab": {
          "base_uri": "https://localhost:8080/"
        },
        "id": "Zb8xqOmfyCBZ",
        "outputId": "f2535b89-d28d-4960-c9f3-158491a4f4b7"
      },
      "execution_count": 440,
      "outputs": [
        {
          "output_type": "stream",
          "name": "stdout",
          "text": [
            "Ridge Grid MSE: 0.003182672095010987\n",
            "Ridge Grid RMSE: 0.05641517610546817\n",
            "Ridge Grid R2 Score: 56.31\n",
            "Best alpha: 10.0\n"
          ]
        }
      ]
    },
    {
      "cell_type": "code",
      "execution_count": 441,
      "metadata": {
        "id": "66AnMcXW7Pvk",
        "colab": {
          "base_uri": "https://localhost:8080/",
          "height": 372
        },
        "outputId": "5378d504-600f-4626-f57a-15e7df25cf4a"
      },
      "outputs": [
        {
          "output_type": "execute_result",
          "data": {
            "text/plain": [
              "Text(0.5, 0, 'X_train Values')"
            ]
          },
          "metadata": {},
          "execution_count": 441
        },
        {
          "output_type": "display_data",
          "data": {
            "text/plain": [
              "<Figure size 432x288 with 1 Axes>"
            ],
            "image/png": "[encoded data removed]"
          },
          "metadata": {
            "needs_background": "light"
          }
        }
      ],
      "source": [
        "ridgereg = Ridge(alpha=10.0).fit(X_train, y_train)\n",
        "ridgereg_coeffs = pd.Series(ridgereg.coef_, index=X_train.columns)\n",
        "ridgereg_coeffs.plot(kind='bar')\n",
        "plt.title('Ridge Regression Coefficients')\n",
        "plt.xlabel('X_train Values')"
      ]
    },
    {
      "cell_type": "markdown",
      "source": [
        "##### Model 3: LASSO Grid Regression"
      ],
      "metadata": {
        "id": "LjcW7pe69zfy"
      }
    },
    {
      "cell_type": "code",
      "source": [
        "param_dict = {'alpha': [0.001, 0.1, 1.0, 10.0, 100.0]}\n",
        "lasso_grid = GridSearchCV(Lasso(), param_grid=param_dict, scoring='neg_mean_squared_error', cv=5)\n",
        "lasso_grid.fit(X_train, y_train)\n",
        "y_pred2 = lasso_grid.predict(X_test)\n",
        "lasso_grid_results = model_scores(y_test, y_pred2)\n",
        "print(f'Lasso Grid MSE: {lasso_grid_results[0]}')\n",
        "print(f'Lasso Grid RMSE: {lasso_grid_results[1]}')\n",
        "print(f'Lasso Grid R2 Score: {lasso_grid_results[2]}')\n",
        "\n",
        "lasso_best_alpha = lasso_grid.best_params_\n",
        "print(f'Best alpha: {list(lasso_best_alpha.values())[0]}')\n",
        "\n",
        "model_results.append({'Model_name': 'Lasso Regression', 'MSE': lasso_grid_results[0], 'RMSE': lasso_grid_results[1], 'R2 Score': lasso_grid_results[2]})"
      ],
      "metadata": {
        "colab": {
          "base_uri": "https://localhost:8080/"
        },
        "id": "rafh3VKV8wuG",
        "outputId": "23d9f41f-76fe-4b1d-859e-0bc1a283d12c"
      },
      "execution_count": 442,
      "outputs": [
        {
          "output_type": "stream",
          "name": "stdout",
          "text": [
            "Lasso Grid MSE: 0.0032034992993743906\n",
            "Lasso Grid RMSE: 0.05659946377285204\n",
            "Lasso Grid R2 Score: 56.02\n",
            "Best alpha: 0.001\n"
          ]
        }
      ]
    },
    {
      "cell_type": "code",
      "source": [
        "lassoreg = Lasso(alpha=0.001).fit(X_train, y_train)\n",
        "lassoreg_coeffs = pd.Series(lassoreg.coef_, index=X_train.columns)\n",
        "lassoreg_coeffs.plot(kind='bar')\n",
        "plt.title('Lasso Regression Coefficients')\n",
        "plt.xlabel('X_train Values')"
      ],
      "metadata": {
        "colab": {
          "base_uri": "https://localhost:8080/",
          "height": 372
        },
        "id": "lKqmclhy9xp1",
        "outputId": "2161db7f-f44f-49ae-bc4e-2081f3a59885"
      },
      "execution_count": 443,
      "outputs": [
        {
          "output_type": "execute_result",
          "data": {
            "text/plain": [
              "Text(0.5, 0, 'X_train Values')"
            ]
          },
          "metadata": {},
          "execution_count": 443
        },
        {
          "output_type": "display_data",
          "data": {
            "text/plain": [
              "<Figure size 432x288 with 1 Axes>"
            ],
            "image/png": "[encoded data removed]"
          },
          "metadata": {
            "needs_background": "light"
          }
        }
      ]
    },
    {
      "cell_type": "markdown",
      "source": [
        "##### Model 4: KNN Model"
      ],
      "metadata": {
        "id": "Hm28p-f-Em59"
      }
    },
    {
      "cell_type": "code",
      "source": [
        "#Identifying MSE to choose n_neighbors\n",
        "from sklearn.neighbors import KNeighborsRegressor\n",
        "\n",
        "mses=[]\n",
        "for i in range(1,10):\n",
        "    KNN=KNeighborsRegressor(n_neighbors=i)\n",
        "    KNN.fit(X_train,y_train)\n",
        "    y_pred=KNN.predict(X_test)\n",
        "    results=np.sqrt(mean_squared_error(y_test, y_pred))\n",
        "    mses.append(results)\n",
        "print(mses)"
      ],
      "metadata": {
        "colab": {
          "base_uri": "https://localhost:8080/"
        },
        "id": "qp46wDnR_x1I",
        "outputId": "0d2e3fb1-cfed-4156-8c4e-5f290d8d9004"
      },
      "execution_count": 444,
      "outputs": [
        {
          "output_type": "stream",
          "name": "stdout",
          "text": [
            "[0.06295649686828068, 0.0579194519672858, 0.057154878619216365, 0.057250231496807, 0.05760111888914045, 0.05803992102059601, 0.05845064146645705, 0.05889833626745725, 0.05933850195346198]\n"
          ]
        }
      ]
    },
    {
      "cell_type": "code",
      "source": [
        "KNN=KNeighborsRegressor(n_neighbors=2)\n",
        "KNN.fit(X_train,y_train)\n",
        "y_pred3=KNN.predict(X_test)\n",
        "KNN_results = model_scores(y_test, y_pred3)\n",
        "print(f'KNN MSE: {KNN_results[0]}')\n",
        "print(f'KNN RMSE: {KNN_results[1]}')\n",
        "print(f'KNN R2 Score: {KNN_results[2]}')\n",
        "\n",
        "model_results.append({'Model_name': 'KNN Regression', 'MSE': KNN_results[0], 'RMSE': KNN_results[1], 'R2 Score': KNN_results[2]})"
      ],
      "metadata": {
        "colab": {
          "base_uri": "https://localhost:8080/"
        },
        "id": "7udd5x_MEQgy",
        "outputId": "7056b2e6-6ce8-4eac-8ae0-3df24499fdd3"
      },
      "execution_count": 445,
      "outputs": [
        {
          "output_type": "stream",
          "name": "stdout",
          "text": [
            "KNN MSE: 0.0033546629161907266\n",
            "KNN RMSE: 0.0579194519672858\n",
            "KNN R2 Score: 53.95\n"
          ]
        }
      ]
    },
    {
      "cell_type": "code",
      "source": [
        ""
      ],
      "metadata": {
        "id": "YEWIv7KC_x8X"
      },
      "execution_count": null,
      "outputs": []
    },
    {
      "cell_type": "code",
      "source": [
        ""
      ],
      "metadata": {
        "id": "lb7MX6VSLq5W"
      },
      "execution_count": null,
      "outputs": []
    },
    {
      "cell_type": "code",
      "execution_count": null,
      "metadata": {
        "id": "9TjYRtcb7Pvk"
      },
      "outputs": [],
      "source": [
        ""
      ]
    },
    {
      "cell_type": "code",
      "execution_count": null,
      "metadata": {
        "id": "md672Iap7Pvk"
      },
      "outputs": [],
      "source": [
        ""
      ]
    },
    {
      "cell_type": "markdown",
      "metadata": {
        "id": "jp_-lbwN7Pvl"
      },
      "source": [
        "### Evaluation\n",
        "\n",
        "With some modeling accomplished, we aim to reflect on what we identify as a high quality model and what we are able to learn from this.  We should review our business objective and explore how well we can provide meaningful insight on drivers of used car prices.  Your goal now is to distill your findings and determine whether the earlier phases need revisitation and adjustment or if you have information of value to bring back to your client."
      ]
    },
    {
      "cell_type": "code",
      "execution_count": 447,
      "metadata": {
        "id": "jSUDNOxX7Pvl",
        "colab": {
          "base_uri": "https://localhost:8080/",
          "height": 175
        },
        "outputId": "a048fe09-2822-4b9b-8e54-80fa3f400822"
      },
      "outputs": [
        {
          "output_type": "execute_result",
          "data": {
            "text/plain": [
              "          Model_name       MSE      RMSE  R2 Score\n",
              "0  Linear Regression  0.003183  0.056415     56.31\n",
              "1   Ridge Regression  0.003183  0.056415     56.31\n",
              "2   Lasso Regression  0.003203  0.056599     56.02\n",
              "3     KNN Regression  0.003355  0.057919     53.95"
            ],
            "text/html": [
              "\n",
              "  <div id=\"df-c272b7dd-33a0-4843-a0a2-7c62c7c46abe\">\n",
              "    <div class=\"colab-df-container\">\n",
              "      <div>\n",
              "<style scoped>\n",
              "    .dataframe tbody tr th:only-of-type {\n",
              "        vertical-align: middle;\n",
              "    }\n",
              "\n",
              "    .dataframe tbody tr th {\n",
              "        vertical-align: top;\n",
              "    }\n",
              "\n",
              "    .dataframe thead th {\n",
              "        text-align: right;\n",
              "    }\n",
              "</style>\n",
              "<table border=\"1\" class=\"dataframe\">\n",
              "  <thead>\n",
              "    <tr style=\"text-align: right;\">\n",
              "      <th></th>\n",
              "      <th>Model_name</th>\n",
              "      <th>MSE</th>\n",
              "      <th>RMSE</th>\n",
              "      <th>R2 Score</th>\n",
              "    </tr>\n",
              "  </thead>\n",
              "  <tbody>\n",
              "    <tr>\n",
              "      <th>0</th>\n",
              "      <td>Linear Regression</td>\n",
              "      <td>0.003183</td>\n",
              "      <td>0.056415</td>\n",
              "      <td>56.31</td>\n",
              "    </tr>\n",
              "    <tr>\n",
              "      <th>1</th>\n",
              "      <td>Ridge Regression</td>\n",
              "      <td>0.003183</td>\n",
              "      <td>0.056415</td>\n",
              "      <td>56.31</td>\n",
              "    </tr>\n",
              "    <tr>\n",
              "      <th>2</th>\n",
              "      <td>Lasso Regression</td>\n",
              "      <td>0.003203</td>\n",
              "      <td>0.056599</td>\n",
              "      <td>56.02</td>\n",
              "    </tr>\n",
              "    <tr>\n",
              "      <th>3</th>\n",
              "      <td>KNN Regression</td>\n",
              "      <td>0.003355</td>\n",
              "      <td>0.057919</td>\n",
              "      <td>53.95</td>\n",
              "    </tr>\n",
              "  </tbody>\n",
              "</table>\n",
              "</div>\n",
              "      <button class=\"colab-df-convert\" onclick=\"convertToInteractive('df-c272b7dd-33a0-4843-a0a2-7c62c7c46abe')\"\n",
              "              title=\"Convert this dataframe to an interactive table.\"\n",
              "              style=\"display:none;\">\n",
              "        \n",
              "  <svg xmlns=\"http://www.w3.org/2000/svg\" height=\"24px\"viewBox=\"0 0 24 24\"\n",
              "       width=\"24px\">\n",
              "    <path d=\"M0 0h24v24H0V0z\" fill=\"none\"/>\n",
              "    <path d=\"M18.56 5.44l.94 2.06.94-2.06 2.06-.94-2.06-.94-.94-2.06-.94 2.06-2.06.94zm-11 1L8.5 8.5l.94-2.06 2.06-.94-2.06-.94L8.5 2.5l-.94 2.06-2.06.94zm10 10l.94 2.06.94-2.06 2.06-.94-2.06-.94-.94-2.06-.94 2.06-2.06.94z\"/><path d=\"M17.41 7.96l-1.37-1.37c-.4-.4-.92-.59-1.43-.59-.52 0-1.04.2-1.43.59L10.3 9.45l-7.72 7.72c-.78.78-.78 2.05 0 2.83L4 21.41c.39.39.9.59 1.41.59.51 0 1.02-.2 1.41-.59l7.78-7.78 2.81-2.81c.8-.78.8-2.07 0-2.86zM5.41 20L4 18.59l7.72-7.72 1.47 1.35L5.41 20z\"/>\n",
              "  </svg>\n",
              "      </button>\n",
              "      \n",
              "  <style>\n",
              "    .colab-df-container {\n",
              "      display:flex;\n",
              "      flex-wrap:wrap;\n",
              "      gap: 12px;\n",
              "    }\n",
              "\n",
              "    .colab-df-convert {\n",
              "      background-color: #E8F0FE;\n",
              "      border: none;\n",
              "      border-radius: 50%;\n",
              "      cursor: pointer;\n",
              "      display: none;\n",
              "      fill: #1967D2;\n",
              "      height: 32px;\n",
              "      padding: 0 0 0 0;\n",
              "      width: 32px;\n",
              "    }\n",
              "\n",
              "    .colab-df-convert:hover {\n",
              "      background-color: #E2EBFA;\n",
              "      box-shadow: 0px 1px 2px rgba(60, 64, 67, 0.3), 0px 1px 3px 1px rgba(60, 64, 67, 0.15);\n",
              "      fill: #174EA6;\n",
              "    }\n",
              "\n",
              "    [theme=dark] .colab-df-convert {\n",
              "      background-color: #3B4455;\n",
              "      fill: #D2E3FC;\n",
              "    }\n",
              "\n",
              "    [theme=dark] .colab-df-convert:hover {\n",
              "      background-color: #434B5C;\n",
              "      box-shadow: 0px 1px 3px 1px rgba(0, 0, 0, 0.15);\n",
              "      filter: drop-shadow(0px 1px 2px rgba(0, 0, 0, 0.3));\n",
              "      fill: #FFFFFF;\n",
              "    }\n",
              "  </style>\n",
              "\n",
              "      <script>\n",
              "        const buttonEl =\n",
              "          document.querySelector('#df-c272b7dd-33a0-4843-a0a2-7c62c7c46abe button.colab-df-convert');\n",
              "        buttonEl.style.display =\n",
              "          google.colab.kernel.accessAllowed ? 'block' : 'none';\n",
              "\n",
              "        async function convertToInteractive(key) {\n",
              "          const element = document.querySelector('#df-c272b7dd-33a0-4843-a0a2-7c62c7c46abe');\n",
              "          const dataTable =\n",
              "            await google.colab.kernel.invokeFunction('convertToInteractive',\n",
              "                                                     [key], {});\n",
              "          if (!dataTable) return;\n",
              "\n",
              "          const docLinkHtml = 'Like what you see? Visit the ' +\n",
              "            '<a target=\"_blank\" href=https://colab.research.google.com/notebooks/data_table.ipynb>data table notebook</a>'\n",
              "            + ' to learn more about interactive tables.';\n",
              "          element.innerHTML = '';\n",
              "          dataTable['output_type'] = 'display_data';\n",
              "          await google.colab.output.renderOutput(dataTable, element);\n",
              "          const docLink = document.createElement('div');\n",
              "          docLink.innerHTML = docLinkHtml;\n",
              "          element.appendChild(docLink);\n",
              "        }\n",
              "      </script>\n",
              "    </div>\n",
              "  </div>\n",
              "  "
            ]
          },
          "metadata": {},
          "execution_count": 447
        }
      ],
      "source": [
        "results = pd.DataFrame(model_results)\n",
        "results"
      ]
    },
    {
      "cell_type": "code",
      "execution_count": 472,
      "metadata": {
        "id": "71JEBMfM7Pvl",
        "colab": {
          "base_uri": "https://localhost:8080/",
          "height": 542
        },
        "outputId": "7baa4f5c-153e-4d5b-c5f0-84d44ee6a23e"
      },
      "outputs": [
        {
          "output_type": "display_data",
          "data": {
            "text/html": [
              "<html>\n",
              "<head><meta charset=\"utf-8\" /></head>\n",
              "<body>\n",
              "    <div>            <script src=\"https://cdnjs.cloudflare.com/ajax/libs/mathjax/2.7.5/MathJax.js?config=TeX-AMS-MML_SVG\"></script><script type=\"text/javascript\">if (window.MathJax) {MathJax.Hub.Config({SVG: {font: \"STIX-Web\"}});}</script>                <script type=\"text/javascript\">window.PlotlyConfig = {MathJaxConfig: 'local'};</script>\n",
              "        <script src=\"https://cdn.plot.ly/plotly-2.8.3.min.js\"></script>                <div id=\"886d3276-ceb7-4902-b292-6dca719cec02\" class=\"plotly-graph-div\" style=\"height:525px; width:100%;\"></div>            <script type=\"text/javascript\">                                    window.PLOTLYENV=window.PLOTLYENV || {};                                    if (document.getElementById(\"886d3276-ceb7-4902-b292-6dca719cec02\")) {                    Plotly.newPlot(                        \"886d3276-ceb7-4902-b292-6dca719cec02\",                        [{\"hovertemplate\":\"Model_name=%{x}<br>R2 Score=%{y}<extra></extra>\",\"legendgroup\":\"\",\"line\":{\"color\":\"#636efa\",\"dash\":\"solid\"},\"marker\":{\"symbol\":\"circle\"},\"mode\":\"lines\",\"name\":\"\",\"orientation\":\"v\",\"showlegend\":false,\"x\":[\"Linear Regression\",\"Ridge Regression\",\"Lasso Regression\",\"KNN Regression\"],\"xaxis\":\"x\",\"y\":[56.31,56.31,56.02,53.95],\"yaxis\":\"y\",\"type\":\"scatter\"}],                        {\"template\":{\"data\":{\"bar\":[{\"error_x\":{\"color\":\"#2a3f5f\"},\"error_y\":{\"color\":\"#2a3f5f\"},\"marker\":{\"line\":{\"color\":\"#E5ECF6\",\"width\":0.5},\"pattern\":{\"fillmode\":\"overlay\",\"size\":10,\"solidity\":0.2}},\"type\":\"bar\"}],\"barpolar\":[{\"marker\":{\"line\":{\"color\":\"#E5ECF6\",\"width\":0.5},\"pattern\":{\"fillmode\":\"overlay\",\"size\":10,\"solidity\":0.2}},\"type\":\"barpolar\"}],\"carpet\":[{\"aaxis\":{\"endlinecolor\":\"#2a3f5f\",\"gridcolor\":\"white\",\"linecolor\":\"white\",\"minorgridcolor\":\"white\",\"startlinecolor\":\"#2a3f5f\"},\"baxis\":{\"endlinecolor\":\"#2a3f5f\",\"gridcolor\":\"white\",\"linecolor\":\"white\",\"minorgridcolor\":\"white\",\"startlinecolor\":\"#2a3f5f\"},\"type\":\"carpet\"}],\"choropleth\":[{\"colorbar\":{\"outlinewidth\":0,\"ticks\":\"\"},\"type\":\"choropleth\"}],\"contour\":[{\"colorbar\":{\"outlinewidth\":0,\"ticks\":\"\"},\"colorscale\":[[0.0,\"#0d0887\"],[0.1111111111111111,\"#46039f\"],[0.2222222222222222,\"#7201a8\"],[0.3333333333333333,\"#9c179e\"],[0.4444444444444444,\"#bd3786\"],[0.5555555555555556,\"#d8576b\"],[0.6666666666666666,\"#ed7953\"],[0.7777777777777778,\"#fb9f3a\"],[0.8888888888888888,\"#fdca26\"],[1.0,\"#f0f921\"]],\"type\":\"contour\"}],\"contourcarpet\":[{\"colorbar\":{\"outlinewidth\":0,\"ticks\":\"\"},\"type\":\"contourcarpet\"}],\"heatmap\":[{\"colorbar\":{\"outlinewidth\":0,\"ticks\":\"\"},\"colorscale\":[[0.0,\"#0d0887\"],[0.1111111111111111,\"#46039f\"],[0.2222222222222222,\"#7201a8\"],[0.3333333333333333,\"#9c179e\"],[0.4444444444444444,\"#bd3786\"],[0.5555555555555556,\"#d8576b\"],[0.6666666666666666,\"#ed7953\"],[0.7777777777777778,\"#fb9f3a\"],[0.8888888888888888,\"#fdca26\"],[1.0,\"#f0f921\"]],\"type\":\"heatmap\"}],\"heatmapgl\":[{\"colorbar\":{\"outlinewidth\":0,\"ticks\":\"\"},\"colorscale\":[[0.0,\"#0d0887\"],[0.1111111111111111,\"#46039f\"],[0.2222222222222222,\"#7201a8\"],[0.3333333333333333,\"#9c179e\"],[0.4444444444444444,\"#bd3786\"],[0.5555555555555556,\"#d8576b\"],[0.6666666666666666,\"#ed7953\"],[0.7777777777777778,\"#fb9f3a\"],[0.8888888888888888,\"#fdca26\"],[1.0,\"#f0f921\"]],\"type\":\"heatmapgl\"}],\"histogram\":[{\"marker\":{\"pattern\":{\"fillmode\":\"overlay\",\"size\":10,\"solidity\":0.2}},\"type\":\"histogram\"}],\"histogram2d\":[{\"colorbar\":{\"outlinewidth\":0,\"ticks\":\"\"},\"colorscale\":[[0.0,\"#0d0887\"],[0.1111111111111111,\"#46039f\"],[0.2222222222222222,\"#7201a8\"],[0.3333333333333333,\"#9c179e\"],[0.4444444444444444,\"#bd3786\"],[0.5555555555555556,\"#d8576b\"],[0.6666666666666666,\"#ed7953\"],[0.7777777777777778,\"#fb9f3a\"],[0.8888888888888888,\"#fdca26\"],[1.0,\"#f0f921\"]],\"type\":\"histogram2d\"}],\"histogram2dcontour\":[{\"colorbar\":{\"outlinewidth\":0,\"ticks\":\"\"},\"colorscale\":[[0.0,\"#0d0887\"],[0.1111111111111111,\"#46039f\"],[0.2222222222222222,\"#7201a8\"],[0.3333333333333333,\"#9c179e\"],[0.4444444444444444,\"#bd3786\"],[0.5555555555555556,\"#d8576b\"],[0.6666666666666666,\"#ed7953\"],[0.7777777777777778,\"#fb9f3a\"],[0.8888888888888888,\"#fdca26\"],[1.0,\"#f0f921\"]],\"type\":\"histogram2dcontour\"}],\"mesh3d\":[{\"colorbar\":{\"outlinewidth\":0,\"ticks\":\"\"},\"type\":\"mesh3d\"}],\"parcoords\":[{\"line\":{\"colorbar\":{\"outlinewidth\":0,\"ticks\":\"\"}},\"type\":\"parcoords\"}],\"pie\":[{\"automargin\":true,\"type\":\"pie\"}],\"scatter\":[{\"marker\":{\"colorbar\":{\"outlinewidth\":0,\"ticks\":\"\"}},\"type\":\"scatter\"}],\"scatter3d\":[{\"line\":{\"colorbar\":{\"outlinewidth\":0,\"ticks\":\"\"}},\"marker\":{\"colorbar\":{\"outlinewidth\":0,\"ticks\":\"\"}},\"type\":\"scatter3d\"}],\"scattercarpet\":[{\"marker\":{\"colorbar\":{\"outlinewidth\":0,\"ticks\":\"\"}},\"type\":\"scattercarpet\"}],\"scattergeo\":[{\"marker\":{\"colorbar\":{\"outlinewidth\":0,\"ticks\":\"\"}},\"type\":\"scattergeo\"}],\"scattergl\":[{\"marker\":{\"colorbar\":{\"outlinewidth\":0,\"ticks\":\"\"}},\"type\":\"scattergl\"}],\"scattermapbox\":[{\"marker\":{\"colorbar\":{\"outlinewidth\":0,\"ticks\":\"\"}},\"type\":\"scattermapbox\"}],\"scatterpolar\":[{\"marker\":{\"colorbar\":{\"outlinewidth\":0,\"ticks\":\"\"}},\"type\":\"scatterpolar\"}],\"scatterpolargl\":[{\"marker\":{\"colorbar\":{\"outlinewidth\":0,\"ticks\":\"\"}},\"type\":\"scatterpolargl\"}],\"scatterternary\":[{\"marker\":{\"colorbar\":{\"outlinewidth\":0,\"ticks\":\"\"}},\"type\":\"scatterternary\"}],\"surface\":[{\"colorbar\":{\"outlinewidth\":0,\"ticks\":\"\"},\"colorscale\":[[0.0,\"#0d0887\"],[0.1111111111111111,\"#46039f\"],[0.2222222222222222,\"#7201a8\"],[0.3333333333333333,\"#9c179e\"],[0.4444444444444444,\"#bd3786\"],[0.5555555555555556,\"#d8576b\"],[0.6666666666666666,\"#ed7953\"],[0.7777777777777778,\"#fb9f3a\"],[0.8888888888888888,\"#fdca26\"],[1.0,\"#f0f921\"]],\"type\":\"surface\"}],\"table\":[{\"cells\":{\"fill\":{\"color\":\"#EBF0F8\"},\"line\":{\"color\":\"white\"}},\"header\":{\"fill\":{\"color\":\"#C8D4E3\"},\"line\":{\"color\":\"white\"}},\"type\":\"table\"}]},\"layout\":{\"annotationdefaults\":{\"arrowcolor\":\"#2a3f5f\",\"arrowhead\":0,\"arrowwidth\":1},\"autotypenumbers\":\"strict\",\"coloraxis\":{\"colorbar\":{\"outlinewidth\":0,\"ticks\":\"\"}},\"colorscale\":{\"diverging\":[[0,\"#8e0152\"],[0.1,\"#c51b7d\"],[0.2,\"#de77ae\"],[0.3,\"#f1b6da\"],[0.4,\"#fde0ef\"],[0.5,\"#f7f7f7\"],[0.6,\"#e6f5d0\"],[0.7,\"#b8e186\"],[0.8,\"#7fbc41\"],[0.9,\"#4d9221\"],[1,\"#276419\"]],\"sequential\":[[0.0,\"#0d0887\"],[0.1111111111111111,\"#46039f\"],[0.2222222222222222,\"#7201a8\"],[0.3333333333333333,\"#9c179e\"],[0.4444444444444444,\"#bd3786\"],[0.5555555555555556,\"#d8576b\"],[0.6666666666666666,\"#ed7953\"],[0.7777777777777778,\"#fb9f3a\"],[0.8888888888888888,\"#fdca26\"],[1.0,\"#f0f921\"]],\"sequentialminus\":[[0.0,\"#0d0887\"],[0.1111111111111111,\"#46039f\"],[0.2222222222222222,\"#7201a8\"],[0.3333333333333333,\"#9c179e\"],[0.4444444444444444,\"#bd3786\"],[0.5555555555555556,\"#d8576b\"],[0.6666666666666666,\"#ed7953\"],[0.7777777777777778,\"#fb9f3a\"],[0.8888888888888888,\"#fdca26\"],[1.0,\"#f0f921\"]]},\"colorway\":[\"#636efa\",\"#EF553B\",\"#00cc96\",\"#ab63fa\",\"#FFA15A\",\"#19d3f3\",\"#FF6692\",\"#B6E880\",\"#FF97FF\",\"#FECB52\"],\"font\":{\"color\":\"#2a3f5f\"},\"geo\":{\"bgcolor\":\"white\",\"lakecolor\":\"white\",\"landcolor\":\"#E5ECF6\",\"showlakes\":true,\"showland\":true,\"subunitcolor\":\"white\"},\"hoverlabel\":{\"align\":\"left\"},\"hovermode\":\"closest\",\"mapbox\":{\"style\":\"light\"},\"paper_bgcolor\":\"white\",\"plot_bgcolor\":\"#E5ECF6\",\"polar\":{\"angularaxis\":{\"gridcolor\":\"white\",\"linecolor\":\"white\",\"ticks\":\"\"},\"bgcolor\":\"#E5ECF6\",\"radialaxis\":{\"gridcolor\":\"white\",\"linecolor\":\"white\",\"ticks\":\"\"}},\"scene\":{\"xaxis\":{\"backgroundcolor\":\"#E5ECF6\",\"gridcolor\":\"white\",\"gridwidth\":2,\"linecolor\":\"white\",\"showbackground\":true,\"ticks\":\"\",\"zerolinecolor\":\"white\"},\"yaxis\":{\"backgroundcolor\":\"#E5ECF6\",\"gridcolor\":\"white\",\"gridwidth\":2,\"linecolor\":\"white\",\"showbackground\":true,\"ticks\":\"\",\"zerolinecolor\":\"white\"},\"zaxis\":{\"backgroundcolor\":\"#E5ECF6\",\"gridcolor\":\"white\",\"gridwidth\":2,\"linecolor\":\"white\",\"showbackground\":true,\"ticks\":\"\",\"zerolinecolor\":\"white\"}},\"shapedefaults\":{\"line\":{\"color\":\"#2a3f5f\"}},\"ternary\":{\"aaxis\":{\"gridcolor\":\"white\",\"linecolor\":\"white\",\"ticks\":\"\"},\"baxis\":{\"gridcolor\":\"white\",\"linecolor\":\"white\",\"ticks\":\"\"},\"bgcolor\":\"#E5ECF6\",\"caxis\":{\"gridcolor\":\"white\",\"linecolor\":\"white\",\"ticks\":\"\"}},\"title\":{\"x\":0.05},\"xaxis\":{\"automargin\":true,\"gridcolor\":\"white\",\"linecolor\":\"white\",\"ticks\":\"\",\"title\":{\"standoff\":15},\"zerolinecolor\":\"white\",\"zerolinewidth\":2},\"yaxis\":{\"automargin\":true,\"gridcolor\":\"white\",\"linecolor\":\"white\",\"ticks\":\"\",\"title\":{\"standoff\":15},\"zerolinecolor\":\"white\",\"zerolinewidth\":2}}},\"xaxis\":{\"anchor\":\"y\",\"domain\":[0.0,1.0],\"title\":{\"text\":\"Model_name\"}},\"yaxis\":{\"anchor\":\"x\",\"domain\":[0.0,1.0],\"title\":{\"text\":\"R2 Score\"}},\"legend\":{\"tracegroupgap\":0},\"title\":{\"text\":\"Model Performance and Accuracy\"}},                        {\"responsive\": true}                    ).then(function(){\n",
              "                            \n",
              "var gd = document.getElementById('886d3276-ceb7-4902-b292-6dca719cec02');\n",
              "var x = new MutationObserver(function (mutations, observer) {{\n",
              "        var display = window.getComputedStyle(gd).display;\n",
              "        if (!display || display === 'none') {{\n",
              "            console.log([gd, 'removed!']);\n",
              "            Plotly.purge(gd);\n",
              "            observer.disconnect();\n",
              "        }}\n",
              "}});\n",
              "\n",
              "// Listen for the removal of the full notebook cells\n",
              "var notebookContainer = gd.closest('#notebook-container');\n",
              "if (notebookContainer) {{\n",
              "    x.observe(notebookContainer, {childList: true});\n",
              "}}\n",
              "\n",
              "// Listen for the clearing of the current output cell\n",
              "var outputEl = gd.closest('.output');\n",
              "if (outputEl) {{\n",
              "    x.observe(outputEl, {childList: true});\n",
              "}}\n",
              "\n",
              "                        })                };                            </script>        </div>\n",
              "</body>\n",
              "</html>"
            ]
          },
          "metadata": {}
        }
      ],
      "source": [
        "px.line(data_frame=results, x='Model_name', y='R2 Score', title='Model Performance and Accuracy')"
      ]
    },
    {
      "cell_type": "code",
      "execution_count": 485,
      "metadata": {
        "id": "HDBCPA6x7Pvm"
      },
      "outputs": [],
      "source": [
        "# Both Linear Regression and Ridge Regression performed well with lower MSEs and RMSEs with a high R2 Score.\n",
        "# Year has the highest feature importance in all the models and influences the price of the used car"
      ]
    },
    {
      "cell_type": "code",
      "source": [
        ""
      ],
      "metadata": {
        "id": "sDJjOEikV5f6"
      },
      "execution_count": null,
      "outputs": []
    },
    {
      "cell_type": "code",
      "source": [
        ""
      ],
      "metadata": {
        "id": "wkVDtHNZV5jJ"
      },
      "execution_count": null,
      "outputs": []
    },
    {
      "cell_type": "code",
      "execution_count": null,
      "metadata": {
        "id": "vIeuz5-y7Pvm"
      },
      "outputs": [],
      "source": [
        ""
      ]
    },
    {
      "cell_type": "markdown",
      "metadata": {
        "id": "XKrucHFj7Pvm"
      },
      "source": [
        "### Deployment\n",
        "\n",
        "Now that we've settled on our models and findings, it is time to deliver the information to the client.  You should organize your work as a basic report that details your primary findings.  Keep in mind that your audience is a group of used car dealers interested in fine tuning their inventory."
      ]
    },
    {
      "cell_type": "code",
      "execution_count": null,
      "metadata": {
        "id": "Xc4c1tMf7Pvn"
      },
      "outputs": [],
      "source": [
        ""
      ]
    },
    {
      "cell_type": "code",
      "execution_count": null,
      "metadata": {
        "id": "X4thnnQK7Pvn"
      },
      "outputs": [],
      "source": [
        ""
      ]
    },
    {
      "cell_type": "code",
      "execution_count": null,
      "metadata": {
        "id": "dadNxPso7Pvn"
      },
      "outputs": [],
      "source": [
        ""
      ]
    },
    {
      "cell_type": "code",
      "execution_count": null,
      "metadata": {
        "id": "-lSDYYUV7Pvo"
      },
      "outputs": [],
      "source": [
        ""
      ]
    },
    {
      "cell_type": "code",
      "execution_count": null,
      "metadata": {
        "id": "WYoRvhqz7Pvo"
      },
      "outputs": [],
      "source": [
        ""
      ]
    },
    {
      "cell_type": "code",
      "execution_count": null,
      "metadata": {
        "id": "AdXyTcOl7Pvo"
      },
      "outputs": [],
      "source": [
        ""
      ]
    },
    {
      "cell_type": "code",
      "execution_count": null,
      "metadata": {
        "id": "al1NW2XD7Pvp"
      },
      "outputs": [],
      "source": [
        ""
      ]
    }
  ],
  "metadata": {
    "kernelspec": {
      "display_name": "Python 3 (ipykernel)",
      "language": "python",
      "name": "python3"
    },
    "language_info": {
      "codemirror_mode": {
        "name": "ipython",
        "version": 3
      },
      "file_extension": ".py",
      "mimetype": "text/x-python",
      "name": "python",
      "nbconvert_exporter": "python",
      "pygments_lexer": "ipython3",
      "version": "3.9.7"
    },
    "colab": {
      "name": "prompt_II.ipynb",
      "provenance": [],
      "collapsed_sections": [
        "XKrucHFj7Pvm"
      ]
    }
  },
  "nbformat": 4,
  "nbformat_minor": 0
}